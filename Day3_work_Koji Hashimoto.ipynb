{
 "cells": [
  {
   "cell_type": "markdown",
   "metadata": {},
   "source": [
    "## Kickstarter Projectsのデータセットを用いて、クラウドファンディングが成功するか予測するモデルを構築する（Day3）"
   ]
  },
  {
   "cell_type": "markdown",
   "metadata": {},
   "source": [
    "## 本notebookの内容\n",
    "\n",
    "**下準備**  \n",
    "・説明変数periodの追加（前回同様）  \n",
    "・目的変数stateをダミー変数へ変換（前回同様）  \n",
    "・不要な説明変数削除（前回同様）    \n",
    "・カテゴリ変数を、get_dummiesでone-hotベクトルとする（追加）  \n",
    "・外れ値確認（前回同様）  \n",
    "\n",
    "**特徴量選択（Day3）**  \n",
    "・埋め込み法による特徴量選択(削減）（追加）  \n",
    "\n",
    "**モデル構築**  \n",
    "①ホールドアウト法（やり直し）  \n",
    "　・ホールドアウト法に誤りがあったためやり直し（テストデータに対してclf.fitを呼び出していた）  \n",
    "②交差検証法（やり直し）  \n",
    "　・同様に誤りがあったため、やり直し  \n",
    "③SVM（追加）  \n",
    "　・前回断念したSVMについて、データを一部サンプリングして少量にしてから試す  \n",
    "　・グリッドサーチによるパラメータ最適化  \n",
    "④ランダムフォレスト（追加）  \n",
    "⑤アダブースト&決定木（追加）  \n",
    "⑥ニューラルネットワーク（追加）  \n",
    "\n",
    "**まとめ**  \n",
    "　・各モデルでの予測精度まとめ  \n",
    "　・今後の課題"
   ]
  },
  {
   "cell_type": "markdown",
   "metadata": {},
   "source": [
    "## 下準備"
   ]
  },
  {
   "cell_type": "code",
   "execution_count": 1,
   "metadata": {},
   "outputs": [],
   "source": [
    "%matplotlib inline\n",
    "import pandas as pd\n",
    "import numpy as np\n",
    "import seaborn as sns\n",
    "import matplotlib.pyplot as plt\n",
    "from sklearn.linear_model import SGDClassifier,LassoCV\n",
    "from sklearn.metrics import log_loss, accuracy_score, confusion_matrix, precision_recall_fscore_support, classification_report\n",
    "from sklearn.preprocessing import StandardScaler, OrdinalEncoder\n",
    "from sklearn.model_selection import train_test_split, KFold\n",
    "from sklearn.svm import SVC\n",
    "from sklearn.model_selection import GridSearchCV\n",
    "from sklearn.feature_selection import SelectFromModel\n",
    "import pydotplus\n",
    "import graphviz\n",
    "from IPython.display import Image\n",
    "from sklearn.tree import DecisionTreeClassifier, export_graphviz\n",
    "from sklearn.ensemble import RandomForestClassifier,AdaBoostClassifier\n",
    "from io import StringIO\n",
    "from tensorflow import keras  \n",
    "import tensorflow as tf\n",
    "from tensorflow.compat.v1.keras import Sequential\n",
    "from tensorflow.compat.v1.keras.layers import Dense, Dropout, Activation\n",
    "from tensorflow.compat.v1.keras.optimizers import SGD, RMSprop, Adagrad, Adadelta, Adam\n",
    "from tensorflow.keras.utils import to_categorical"
   ]
  },
  {
   "cell_type": "code",
   "execution_count": 2,
   "metadata": {},
   "outputs": [
    {
     "data": {
      "text/html": [
       "<div>\n",
       "<style scoped>\n",
       "    .dataframe tbody tr th:only-of-type {\n",
       "        vertical-align: middle;\n",
       "    }\n",
       "\n",
       "    .dataframe tbody tr th {\n",
       "        vertical-align: top;\n",
       "    }\n",
       "\n",
       "    .dataframe thead th {\n",
       "        text-align: right;\n",
       "    }\n",
       "</style>\n",
       "<table border=\"1\" class=\"dataframe\">\n",
       "  <thead>\n",
       "    <tr style=\"text-align: right;\">\n",
       "      <th></th>\n",
       "      <th>ID</th>\n",
       "      <th>name</th>\n",
       "      <th>category</th>\n",
       "      <th>main_category</th>\n",
       "      <th>currency</th>\n",
       "      <th>deadline</th>\n",
       "      <th>goal</th>\n",
       "      <th>launched</th>\n",
       "      <th>pledged</th>\n",
       "      <th>state</th>\n",
       "      <th>backers</th>\n",
       "      <th>country</th>\n",
       "      <th>usd pledged</th>\n",
       "      <th>usd_pledged_real</th>\n",
       "      <th>usd_goal_real</th>\n",
       "    </tr>\n",
       "  </thead>\n",
       "  <tbody>\n",
       "    <tr>\n",
       "      <th>0</th>\n",
       "      <td>1000002330</td>\n",
       "      <td>The Songs of Adelaide &amp; Abullah</td>\n",
       "      <td>Poetry</td>\n",
       "      <td>Publishing</td>\n",
       "      <td>GBP</td>\n",
       "      <td>2015-10-09</td>\n",
       "      <td>1000.0</td>\n",
       "      <td>2015-08-11 12:12:28</td>\n",
       "      <td>0.0</td>\n",
       "      <td>failed</td>\n",
       "      <td>0</td>\n",
       "      <td>GB</td>\n",
       "      <td>0.0</td>\n",
       "      <td>0.0</td>\n",
       "      <td>1533.95</td>\n",
       "    </tr>\n",
       "    <tr>\n",
       "      <th>1</th>\n",
       "      <td>1000003930</td>\n",
       "      <td>Greeting From Earth: ZGAC Arts Capsule For ET</td>\n",
       "      <td>Narrative Film</td>\n",
       "      <td>Film &amp; Video</td>\n",
       "      <td>USD</td>\n",
       "      <td>2017-11-01</td>\n",
       "      <td>30000.0</td>\n",
       "      <td>2017-09-02 04:43:57</td>\n",
       "      <td>2421.0</td>\n",
       "      <td>failed</td>\n",
       "      <td>15</td>\n",
       "      <td>US</td>\n",
       "      <td>100.0</td>\n",
       "      <td>2421.0</td>\n",
       "      <td>30000.00</td>\n",
       "    </tr>\n",
       "    <tr>\n",
       "      <th>2</th>\n",
       "      <td>1000004038</td>\n",
       "      <td>Where is Hank?</td>\n",
       "      <td>Narrative Film</td>\n",
       "      <td>Film &amp; Video</td>\n",
       "      <td>USD</td>\n",
       "      <td>2013-02-26</td>\n",
       "      <td>45000.0</td>\n",
       "      <td>2013-01-12 00:20:50</td>\n",
       "      <td>220.0</td>\n",
       "      <td>failed</td>\n",
       "      <td>3</td>\n",
       "      <td>US</td>\n",
       "      <td>220.0</td>\n",
       "      <td>220.0</td>\n",
       "      <td>45000.00</td>\n",
       "    </tr>\n",
       "    <tr>\n",
       "      <th>3</th>\n",
       "      <td>1000007540</td>\n",
       "      <td>ToshiCapital Rekordz Needs Help to Complete Album</td>\n",
       "      <td>Music</td>\n",
       "      <td>Music</td>\n",
       "      <td>USD</td>\n",
       "      <td>2012-04-16</td>\n",
       "      <td>5000.0</td>\n",
       "      <td>2012-03-17 03:24:11</td>\n",
       "      <td>1.0</td>\n",
       "      <td>failed</td>\n",
       "      <td>1</td>\n",
       "      <td>US</td>\n",
       "      <td>1.0</td>\n",
       "      <td>1.0</td>\n",
       "      <td>5000.00</td>\n",
       "    </tr>\n",
       "    <tr>\n",
       "      <th>4</th>\n",
       "      <td>1000011046</td>\n",
       "      <td>Community Film Project: The Art of Neighborhoo...</td>\n",
       "      <td>Film &amp; Video</td>\n",
       "      <td>Film &amp; Video</td>\n",
       "      <td>USD</td>\n",
       "      <td>2015-08-29</td>\n",
       "      <td>19500.0</td>\n",
       "      <td>2015-07-04 08:35:03</td>\n",
       "      <td>1283.0</td>\n",
       "      <td>canceled</td>\n",
       "      <td>14</td>\n",
       "      <td>US</td>\n",
       "      <td>1283.0</td>\n",
       "      <td>1283.0</td>\n",
       "      <td>19500.00</td>\n",
       "    </tr>\n",
       "  </tbody>\n",
       "</table>\n",
       "</div>"
      ],
      "text/plain": [
       "           ID                                               name  \\\n",
       "0  1000002330                    The Songs of Adelaide & Abullah   \n",
       "1  1000003930      Greeting From Earth: ZGAC Arts Capsule For ET   \n",
       "2  1000004038                                     Where is Hank?   \n",
       "3  1000007540  ToshiCapital Rekordz Needs Help to Complete Album   \n",
       "4  1000011046  Community Film Project: The Art of Neighborhoo...   \n",
       "\n",
       "         category main_category currency    deadline     goal  \\\n",
       "0          Poetry    Publishing      GBP  2015-10-09   1000.0   \n",
       "1  Narrative Film  Film & Video      USD  2017-11-01  30000.0   \n",
       "2  Narrative Film  Film & Video      USD  2013-02-26  45000.0   \n",
       "3           Music         Music      USD  2012-04-16   5000.0   \n",
       "4    Film & Video  Film & Video      USD  2015-08-29  19500.0   \n",
       "\n",
       "              launched  pledged     state  backers country  usd pledged  \\\n",
       "0  2015-08-11 12:12:28      0.0    failed        0      GB          0.0   \n",
       "1  2017-09-02 04:43:57   2421.0    failed       15      US        100.0   \n",
       "2  2013-01-12 00:20:50    220.0    failed        3      US        220.0   \n",
       "3  2012-03-17 03:24:11      1.0    failed        1      US          1.0   \n",
       "4  2015-07-04 08:35:03   1283.0  canceled       14      US       1283.0   \n",
       "\n",
       "   usd_pledged_real  usd_goal_real  \n",
       "0               0.0        1533.95  \n",
       "1            2421.0       30000.00  \n",
       "2             220.0       45000.00  \n",
       "3               1.0        5000.00  \n",
       "4            1283.0       19500.00  "
      ]
     },
     "metadata": {},
     "output_type": "display_data"
    },
    {
     "data": {
      "text/html": [
       "<div>\n",
       "<style scoped>\n",
       "    .dataframe tbody tr th:only-of-type {\n",
       "        vertical-align: middle;\n",
       "    }\n",
       "\n",
       "    .dataframe tbody tr th {\n",
       "        vertical-align: top;\n",
       "    }\n",
       "\n",
       "    .dataframe thead th {\n",
       "        text-align: right;\n",
       "    }\n",
       "</style>\n",
       "<table border=\"1\" class=\"dataframe\">\n",
       "  <thead>\n",
       "    <tr style=\"text-align: right;\">\n",
       "      <th></th>\n",
       "      <th>ID</th>\n",
       "      <th>goal</th>\n",
       "      <th>pledged</th>\n",
       "      <th>backers</th>\n",
       "      <th>usd pledged</th>\n",
       "      <th>usd_pledged_real</th>\n",
       "      <th>usd_goal_real</th>\n",
       "    </tr>\n",
       "  </thead>\n",
       "  <tbody>\n",
       "    <tr>\n",
       "      <th>count</th>\n",
       "      <td>3.786610e+05</td>\n",
       "      <td>3.786610e+05</td>\n",
       "      <td>3.786610e+05</td>\n",
       "      <td>378661.000000</td>\n",
       "      <td>3.748640e+05</td>\n",
       "      <td>3.786610e+05</td>\n",
       "      <td>3.786610e+05</td>\n",
       "    </tr>\n",
       "    <tr>\n",
       "      <th>mean</th>\n",
       "      <td>1.074731e+09</td>\n",
       "      <td>4.908079e+04</td>\n",
       "      <td>9.682979e+03</td>\n",
       "      <td>105.617476</td>\n",
       "      <td>7.036729e+03</td>\n",
       "      <td>9.058924e+03</td>\n",
       "      <td>4.545440e+04</td>\n",
       "    </tr>\n",
       "    <tr>\n",
       "      <th>std</th>\n",
       "      <td>6.190862e+08</td>\n",
       "      <td>1.183391e+06</td>\n",
       "      <td>9.563601e+04</td>\n",
       "      <td>907.185035</td>\n",
       "      <td>7.863975e+04</td>\n",
       "      <td>9.097334e+04</td>\n",
       "      <td>1.152950e+06</td>\n",
       "    </tr>\n",
       "    <tr>\n",
       "      <th>min</th>\n",
       "      <td>5.971000e+03</td>\n",
       "      <td>1.000000e-02</td>\n",
       "      <td>0.000000e+00</td>\n",
       "      <td>0.000000</td>\n",
       "      <td>0.000000e+00</td>\n",
       "      <td>0.000000e+00</td>\n",
       "      <td>1.000000e-02</td>\n",
       "    </tr>\n",
       "    <tr>\n",
       "      <th>25%</th>\n",
       "      <td>5.382635e+08</td>\n",
       "      <td>2.000000e+03</td>\n",
       "      <td>3.000000e+01</td>\n",
       "      <td>2.000000</td>\n",
       "      <td>1.698000e+01</td>\n",
       "      <td>3.100000e+01</td>\n",
       "      <td>2.000000e+03</td>\n",
       "    </tr>\n",
       "    <tr>\n",
       "      <th>50%</th>\n",
       "      <td>1.075276e+09</td>\n",
       "      <td>5.200000e+03</td>\n",
       "      <td>6.200000e+02</td>\n",
       "      <td>12.000000</td>\n",
       "      <td>3.947200e+02</td>\n",
       "      <td>6.243300e+02</td>\n",
       "      <td>5.500000e+03</td>\n",
       "    </tr>\n",
       "    <tr>\n",
       "      <th>75%</th>\n",
       "      <td>1.610149e+09</td>\n",
       "      <td>1.600000e+04</td>\n",
       "      <td>4.076000e+03</td>\n",
       "      <td>56.000000</td>\n",
       "      <td>3.034090e+03</td>\n",
       "      <td>4.050000e+03</td>\n",
       "      <td>1.550000e+04</td>\n",
       "    </tr>\n",
       "    <tr>\n",
       "      <th>max</th>\n",
       "      <td>2.147476e+09</td>\n",
       "      <td>1.000000e+08</td>\n",
       "      <td>2.033899e+07</td>\n",
       "      <td>219382.000000</td>\n",
       "      <td>2.033899e+07</td>\n",
       "      <td>2.033899e+07</td>\n",
       "      <td>1.663614e+08</td>\n",
       "    </tr>\n",
       "  </tbody>\n",
       "</table>\n",
       "</div>"
      ],
      "text/plain": [
       "                 ID          goal       pledged        backers   usd pledged  \\\n",
       "count  3.786610e+05  3.786610e+05  3.786610e+05  378661.000000  3.748640e+05   \n",
       "mean   1.074731e+09  4.908079e+04  9.682979e+03     105.617476  7.036729e+03   \n",
       "std    6.190862e+08  1.183391e+06  9.563601e+04     907.185035  7.863975e+04   \n",
       "min    5.971000e+03  1.000000e-02  0.000000e+00       0.000000  0.000000e+00   \n",
       "25%    5.382635e+08  2.000000e+03  3.000000e+01       2.000000  1.698000e+01   \n",
       "50%    1.075276e+09  5.200000e+03  6.200000e+02      12.000000  3.947200e+02   \n",
       "75%    1.610149e+09  1.600000e+04  4.076000e+03      56.000000  3.034090e+03   \n",
       "max    2.147476e+09  1.000000e+08  2.033899e+07  219382.000000  2.033899e+07   \n",
       "\n",
       "       usd_pledged_real  usd_goal_real  \n",
       "count      3.786610e+05   3.786610e+05  \n",
       "mean       9.058924e+03   4.545440e+04  \n",
       "std        9.097334e+04   1.152950e+06  \n",
       "min        0.000000e+00   1.000000e-02  \n",
       "25%        3.100000e+01   2.000000e+03  \n",
       "50%        6.243300e+02   5.500000e+03  \n",
       "75%        4.050000e+03   1.550000e+04  \n",
       "max        2.033899e+07   1.663614e+08  "
      ]
     },
     "execution_count": 2,
     "metadata": {},
     "output_type": "execute_result"
    }
   ],
   "source": [
    "#csvファイルの読み込み\n",
    "df = pd.read_csv('../task/ks-projects-201801.csv')\n",
    "#最初の5行を表示\n",
    "display(df.head())\n",
    "#\n",
    "df.describe()"
   ]
  },
  {
   "cell_type": "markdown",
   "metadata": {},
   "source": [
    "**説明変数の追加**  \n",
    "\n",
    "deadlineからlaunchを引いた期間(period)を定義する"
   ]
  },
  {
   "cell_type": "code",
   "execution_count": 3,
   "metadata": {},
   "outputs": [],
   "source": [
    "#datetime型に変換（launchedは時刻部分を削除）\n",
    "df['deadline'] = pd.to_datetime(df['deadline'])\n",
    "df['launched'] = pd.to_datetime(pd.to_datetime(df['launched']).dt.date) #.dt.dateで日付まで表記（時刻削除）\n",
    "\n",
    "#差を期間とする\n",
    "df['period'] = (df['deadline'] - df['launched']).dt.days"
   ]
  },
  {
   "cell_type": "markdown",
   "metadata": {},
   "source": [
    "**目的変数をダミー変数へ変換**  \n",
    "\n",
    "・failed,successful,その他の個数を確認し、その他を削除する  \n",
    "・successful=1,failed=0とする"
   ]
  },
  {
   "cell_type": "code",
   "execution_count": 4,
   "metadata": {},
   "outputs": [
    {
     "data": {
      "text/plain": [
       "failed        197719\n",
       "successful    133956\n",
       "canceled       38779\n",
       "undefined       3562\n",
       "live            2799\n",
       "suspended       1846\n",
       "Name: state, dtype: int64"
      ]
     },
     "execution_count": 4,
     "metadata": {},
     "output_type": "execute_result"
    }
   ],
   "source": [
    "# 現状確認\n",
    "df['state'].value_counts()"
   ]
  },
  {
   "cell_type": "code",
   "execution_count": 5,
   "metadata": {
    "scrolled": true
   },
   "outputs": [
    {
     "data": {
      "text/plain": [
       "0    197719\n",
       "1    133956\n",
       "Name: state, dtype: int64"
      ]
     },
     "execution_count": 5,
     "metadata": {},
     "output_type": "execute_result"
    }
   ],
   "source": [
    "#failed,successful以外を削除\n",
    "df = df.query('state == [\"failed\",\"successful\"]')\n",
    "#successfulを1、failedを0に変換\n",
    "df.replace({\"successful\":1,\"failed\":0}, inplace=True)\n",
    "#削除できているか確認\n",
    "df['state'].value_counts()"
   ]
  },
  {
   "cell_type": "markdown",
   "metadata": {},
   "source": [
    "**計算負荷を減らすため説明変数を削除する**  \n",
    "\n",
    "・関係のなさそうな変数：ID, name, deadline, launched    \n",
    "・事前予測に使用できない変数：pledged, backers, usd pledged,　usd_pledged_real  \n",
    "・単位の統一されていない変数：goal（usd_goal_realを採用）  \n",
    "・似ていそうな変数：category,main_categoryを絞れるか確認  \n",
    "・似ていそうな変数：currency,countryを絞れるか確認"
   ]
  },
  {
   "cell_type": "code",
   "execution_count": 6,
   "metadata": {
    "scrolled": true
   },
   "outputs": [
    {
     "data": {
      "text/plain": [
       "Product Design     18680\n",
       "Documentary        14523\n",
       "Music              12633\n",
       "Tabletop Games     11744\n",
       "Shorts             11394\n",
       "                   ...  \n",
       "Residencies           68\n",
       "Letterpress           46\n",
       "Chiptune              33\n",
       "Literary Spaces       19\n",
       "Taxidermy             10\n",
       "Name: category, Length: 159, dtype: int64"
      ]
     },
     "execution_count": 6,
     "metadata": {},
     "output_type": "execute_result"
    }
   ],
   "source": [
    "# categoryのデータ数確認\n",
    "df['category'].value_counts()"
   ]
  },
  {
   "cell_type": "code",
   "execution_count": 7,
   "metadata": {},
   "outputs": [
    {
     "data": {
      "text/plain": [
       "Film & Video    56527\n",
       "Music           45949\n",
       "Publishing      35445\n",
       "Games           28521\n",
       "Technology      27050\n",
       "Art             25641\n",
       "Design          25364\n",
       "Food            22054\n",
       "Fashion         19775\n",
       "Theater         10242\n",
       "Comics           9878\n",
       "Photography      9689\n",
       "Crafts           7818\n",
       "Journalism       4149\n",
       "Dance            3573\n",
       "Name: main_category, dtype: int64"
      ]
     },
     "execution_count": 7,
     "metadata": {},
     "output_type": "execute_result"
    }
   ],
   "source": [
    "# main_categoryのデータ数確認\n",
    "df['main_category'].value_counts()"
   ]
  },
  {
   "cell_type": "markdown",
   "metadata": {},
   "source": [
    "→catogoryは細かすぎるため、計算量削減のためmain_categoryのみ採用"
   ]
  },
  {
   "cell_type": "code",
   "execution_count": 8,
   "metadata": {
    "scrolled": true
   },
   "outputs": [
    {
     "data": {
      "text/plain": [
       "<matplotlib.axes._subplots.AxesSubplot at 0x1ab0c6734c0>"
      ]
     },
     "execution_count": 8,
     "metadata": {},
     "output_type": "execute_result"
    },
    {
     "data": {
      "image/png": "[encoded data removed]",
      "text/plain": [
       "<Figure size 1440x720 with 1 Axes>"
      ]
     },
     "metadata": {
      "needs_background": "light"
     },
     "output_type": "display_data"
    }
   ],
   "source": [
    "# 質的変数currencyとstateの関係性を可視化\n",
    "plt.figure(figsize=(20, 10))\n",
    "sns.countplot(x=\"currency\", hue=\"state\", data=df)"
   ]
  },
  {
   "cell_type": "code",
   "execution_count": 9,
   "metadata": {},
   "outputs": [
    {
     "data": {
      "text/plain": [
       "<matplotlib.axes._subplots.AxesSubplot at 0x1ab162873d0>"
      ]
     },
     "execution_count": 9,
     "metadata": {},
     "output_type": "execute_result"
    },
    {
     "data": {
      "image/png": "[encoded data removed]",
      "text/plain": [
       "<Figure size 1440x720 with 1 Axes>"
      ]
     },
     "metadata": {
      "needs_background": "light"
     },
     "output_type": "display_data"
    }
   ],
   "source": [
    "# 質的変数countryとstateの関係性を可視化\n",
    "plt.figure(figsize=(20, 10))\n",
    "sns.countplot(x=\"country\", hue=\"state\", data=df)"
   ]
  },
  {
   "cell_type": "markdown",
   "metadata": {},
   "source": [
    "→currencyとcountryは傾向が似ているため、今後の計算量を削減するためcurrencyに絞る"
   ]
  },
  {
   "cell_type": "code",
   "execution_count": 10,
   "metadata": {
    "scrolled": true
   },
   "outputs": [
    {
     "data": {
      "text/html": [
       "<div>\n",
       "<style scoped>\n",
       "    .dataframe tbody tr th:only-of-type {\n",
       "        vertical-align: middle;\n",
       "    }\n",
       "\n",
       "    .dataframe tbody tr th {\n",
       "        vertical-align: top;\n",
       "    }\n",
       "\n",
       "    .dataframe thead th {\n",
       "        text-align: right;\n",
       "    }\n",
       "</style>\n",
       "<table border=\"1\" class=\"dataframe\">\n",
       "  <thead>\n",
       "    <tr style=\"text-align: right;\">\n",
       "      <th></th>\n",
       "      <th>main_category</th>\n",
       "      <th>currency</th>\n",
       "      <th>state</th>\n",
       "      <th>usd_goal_real</th>\n",
       "      <th>period</th>\n",
       "    </tr>\n",
       "  </thead>\n",
       "  <tbody>\n",
       "    <tr>\n",
       "      <th>0</th>\n",
       "      <td>Publishing</td>\n",
       "      <td>GBP</td>\n",
       "      <td>0</td>\n",
       "      <td>1533.95</td>\n",
       "      <td>59</td>\n",
       "    </tr>\n",
       "    <tr>\n",
       "      <th>1</th>\n",
       "      <td>Film &amp; Video</td>\n",
       "      <td>USD</td>\n",
       "      <td>0</td>\n",
       "      <td>30000.00</td>\n",
       "      <td>60</td>\n",
       "    </tr>\n",
       "    <tr>\n",
       "      <th>2</th>\n",
       "      <td>Film &amp; Video</td>\n",
       "      <td>USD</td>\n",
       "      <td>0</td>\n",
       "      <td>45000.00</td>\n",
       "      <td>45</td>\n",
       "    </tr>\n",
       "    <tr>\n",
       "      <th>3</th>\n",
       "      <td>Music</td>\n",
       "      <td>USD</td>\n",
       "      <td>0</td>\n",
       "      <td>5000.00</td>\n",
       "      <td>30</td>\n",
       "    </tr>\n",
       "    <tr>\n",
       "      <th>5</th>\n",
       "      <td>Food</td>\n",
       "      <td>USD</td>\n",
       "      <td>1</td>\n",
       "      <td>50000.00</td>\n",
       "      <td>35</td>\n",
       "    </tr>\n",
       "  </tbody>\n",
       "</table>\n",
       "</div>"
      ],
      "text/plain": [
       "  main_category currency  state  usd_goal_real  period\n",
       "0    Publishing      GBP      0        1533.95      59\n",
       "1  Film & Video      USD      0       30000.00      60\n",
       "2  Film & Video      USD      0       45000.00      45\n",
       "3         Music      USD      0        5000.00      30\n",
       "5          Food      USD      1       50000.00      35"
      ]
     },
     "metadata": {},
     "output_type": "display_data"
    }
   ],
   "source": [
    "# 上記で決定した不要な説明変数を削除\n",
    "df = df[['main_category','currency','state','usd_goal_real','period']]\n",
    "#削除できているか、period追加されているか確認\n",
    "display(df.head())"
   ]
  },
  {
   "cell_type": "markdown",
   "metadata": {},
   "source": [
    "**説明変数の前処理**  \n",
    "・前回はカテゴリ変数を1,2,3・・・としていたが、今回はget_dummiesを使いone-hotベクトルとする"
   ]
  },
  {
   "cell_type": "code",
   "execution_count": 11,
   "metadata": {
    "scrolled": true
   },
   "outputs": [
    {
     "data": {
      "text/html": [
       "<div>\n",
       "<style scoped>\n",
       "    .dataframe tbody tr th:only-of-type {\n",
       "        vertical-align: middle;\n",
       "    }\n",
       "\n",
       "    .dataframe tbody tr th {\n",
       "        vertical-align: top;\n",
       "    }\n",
       "\n",
       "    .dataframe thead th {\n",
       "        text-align: right;\n",
       "    }\n",
       "</style>\n",
       "<table border=\"1\" class=\"dataframe\">\n",
       "  <thead>\n",
       "    <tr style=\"text-align: right;\">\n",
       "      <th></th>\n",
       "      <th>state</th>\n",
       "      <th>usd_goal_real</th>\n",
       "      <th>period</th>\n",
       "      <th>main_category_Art</th>\n",
       "      <th>main_category_Comics</th>\n",
       "      <th>main_category_Crafts</th>\n",
       "      <th>main_category_Dance</th>\n",
       "      <th>main_category_Design</th>\n",
       "      <th>main_category_Fashion</th>\n",
       "      <th>main_category_Film &amp; Video</th>\n",
       "      <th>...</th>\n",
       "      <th>currency_EUR</th>\n",
       "      <th>currency_GBP</th>\n",
       "      <th>currency_HKD</th>\n",
       "      <th>currency_JPY</th>\n",
       "      <th>currency_MXN</th>\n",
       "      <th>currency_NOK</th>\n",
       "      <th>currency_NZD</th>\n",
       "      <th>currency_SEK</th>\n",
       "      <th>currency_SGD</th>\n",
       "      <th>currency_USD</th>\n",
       "    </tr>\n",
       "  </thead>\n",
       "  <tbody>\n",
       "    <tr>\n",
       "      <th>0</th>\n",
       "      <td>0</td>\n",
       "      <td>1533.95</td>\n",
       "      <td>59</td>\n",
       "      <td>0</td>\n",
       "      <td>0</td>\n",
       "      <td>0</td>\n",
       "      <td>0</td>\n",
       "      <td>0</td>\n",
       "      <td>0</td>\n",
       "      <td>0</td>\n",
       "      <td>...</td>\n",
       "      <td>0</td>\n",
       "      <td>1</td>\n",
       "      <td>0</td>\n",
       "      <td>0</td>\n",
       "      <td>0</td>\n",
       "      <td>0</td>\n",
       "      <td>0</td>\n",
       "      <td>0</td>\n",
       "      <td>0</td>\n",
       "      <td>0</td>\n",
       "    </tr>\n",
       "    <tr>\n",
       "      <th>1</th>\n",
       "      <td>0</td>\n",
       "      <td>30000.00</td>\n",
       "      <td>60</td>\n",
       "      <td>0</td>\n",
       "      <td>0</td>\n",
       "      <td>0</td>\n",
       "      <td>0</td>\n",
       "      <td>0</td>\n",
       "      <td>0</td>\n",
       "      <td>1</td>\n",
       "      <td>...</td>\n",
       "      <td>0</td>\n",
       "      <td>0</td>\n",
       "      <td>0</td>\n",
       "      <td>0</td>\n",
       "      <td>0</td>\n",
       "      <td>0</td>\n",
       "      <td>0</td>\n",
       "      <td>0</td>\n",
       "      <td>0</td>\n",
       "      <td>1</td>\n",
       "    </tr>\n",
       "    <tr>\n",
       "      <th>2</th>\n",
       "      <td>0</td>\n",
       "      <td>45000.00</td>\n",
       "      <td>45</td>\n",
       "      <td>0</td>\n",
       "      <td>0</td>\n",
       "      <td>0</td>\n",
       "      <td>0</td>\n",
       "      <td>0</td>\n",
       "      <td>0</td>\n",
       "      <td>1</td>\n",
       "      <td>...</td>\n",
       "      <td>0</td>\n",
       "      <td>0</td>\n",
       "      <td>0</td>\n",
       "      <td>0</td>\n",
       "      <td>0</td>\n",
       "      <td>0</td>\n",
       "      <td>0</td>\n",
       "      <td>0</td>\n",
       "      <td>0</td>\n",
       "      <td>1</td>\n",
       "    </tr>\n",
       "    <tr>\n",
       "      <th>3</th>\n",
       "      <td>0</td>\n",
       "      <td>5000.00</td>\n",
       "      <td>30</td>\n",
       "      <td>0</td>\n",
       "      <td>0</td>\n",
       "      <td>0</td>\n",
       "      <td>0</td>\n",
       "      <td>0</td>\n",
       "      <td>0</td>\n",
       "      <td>0</td>\n",
       "      <td>...</td>\n",
       "      <td>0</td>\n",
       "      <td>0</td>\n",
       "      <td>0</td>\n",
       "      <td>0</td>\n",
       "      <td>0</td>\n",
       "      <td>0</td>\n",
       "      <td>0</td>\n",
       "      <td>0</td>\n",
       "      <td>0</td>\n",
       "      <td>1</td>\n",
       "    </tr>\n",
       "    <tr>\n",
       "      <th>5</th>\n",
       "      <td>1</td>\n",
       "      <td>50000.00</td>\n",
       "      <td>35</td>\n",
       "      <td>0</td>\n",
       "      <td>0</td>\n",
       "      <td>0</td>\n",
       "      <td>0</td>\n",
       "      <td>0</td>\n",
       "      <td>0</td>\n",
       "      <td>0</td>\n",
       "      <td>...</td>\n",
       "      <td>0</td>\n",
       "      <td>0</td>\n",
       "      <td>0</td>\n",
       "      <td>0</td>\n",
       "      <td>0</td>\n",
       "      <td>0</td>\n",
       "      <td>0</td>\n",
       "      <td>0</td>\n",
       "      <td>0</td>\n",
       "      <td>1</td>\n",
       "    </tr>\n",
       "  </tbody>\n",
       "</table>\n",
       "<p>5 rows × 32 columns</p>\n",
       "</div>"
      ],
      "text/plain": [
       "   state  usd_goal_real  period  main_category_Art  main_category_Comics  \\\n",
       "0      0        1533.95      59                  0                     0   \n",
       "1      0       30000.00      60                  0                     0   \n",
       "2      0       45000.00      45                  0                     0   \n",
       "3      0        5000.00      30                  0                     0   \n",
       "5      1       50000.00      35                  0                     0   \n",
       "\n",
       "   main_category_Crafts  main_category_Dance  main_category_Design  \\\n",
       "0                     0                    0                     0   \n",
       "1                     0                    0                     0   \n",
       "2                     0                    0                     0   \n",
       "3                     0                    0                     0   \n",
       "5                     0                    0                     0   \n",
       "\n",
       "   main_category_Fashion  main_category_Film & Video  ...  currency_EUR  \\\n",
       "0                      0                           0  ...             0   \n",
       "1                      0                           1  ...             0   \n",
       "2                      0                           1  ...             0   \n",
       "3                      0                           0  ...             0   \n",
       "5                      0                           0  ...             0   \n",
       "\n",
       "   currency_GBP  currency_HKD  currency_JPY  currency_MXN  currency_NOK  \\\n",
       "0             1             0             0             0             0   \n",
       "1             0             0             0             0             0   \n",
       "2             0             0             0             0             0   \n",
       "3             0             0             0             0             0   \n",
       "5             0             0             0             0             0   \n",
       "\n",
       "   currency_NZD  currency_SEK  currency_SGD  currency_USD  \n",
       "0             0             0             0             0  \n",
       "1             0             0             0             1  \n",
       "2             0             0             0             1  \n",
       "3             0             0             0             1  \n",
       "5             0             0             0             1  \n",
       "\n",
       "[5 rows x 32 columns]"
      ]
     },
     "execution_count": 11,
     "metadata": {},
     "output_type": "execute_result"
    }
   ],
   "source": [
    "#カテゴリ変数をダミー変数に置換\n",
    "df = pd.get_dummies(df)\n",
    "\n",
    "#できているか確認\n",
    "df.head()"
   ]
  },
  {
   "cell_type": "code",
   "execution_count": 12,
   "metadata": {
    "scrolled": true
   },
   "outputs": [
    {
     "data": {
      "text/plain": [
       "(array([  6217.,  16787.,  34404., 194404.,  35162.,   8232.,  32765.,\n",
       "           702.,    482.,   2520.]),\n",
       " array([ 1. , 10.1, 19.2, 28.3, 37.4, 46.5, 55.6, 64.7, 73.8, 82.9, 92. ]),\n",
       " <a list of 10 Patch objects>)"
      ]
     },
     "execution_count": 12,
     "metadata": {},
     "output_type": "execute_result"
    },
    {
     "data": {
      "image/png": "[encoded data removed]",
      "text/plain": [
       "<Figure size 432x288 with 1 Axes>"
      ]
     },
     "metadata": {
      "needs_background": "light"
     },
     "output_type": "display_data"
    }
   ],
   "source": [
    "# periodの外れ値確認\n",
    "plt.hist(df['period'])"
   ]
  },
  {
   "cell_type": "code",
   "execution_count": 13,
   "metadata": {},
   "outputs": [
    {
     "data": {
      "text/plain": [
       "<matplotlib.axes._subplots.AxesSubplot at 0x1ab0f5ceca0>"
      ]
     },
     "execution_count": 13,
     "metadata": {},
     "output_type": "execute_result"
    },
    {
     "data": {
      "image/png": "[encoded data removed]",
      "text/plain": [
       "<Figure size 432x288 with 1 Axes>"
      ]
     },
     "metadata": {
      "needs_background": "light"
     },
     "output_type": "display_data"
    }
   ],
   "source": [
    "# 箱ひげ図\n",
    "sns.boxplot(df['period'])"
   ]
  },
  {
   "cell_type": "code",
   "execution_count": 14,
   "metadata": {
    "scrolled": false
   },
   "outputs": [
    {
     "name": "stdout",
     "output_type": "stream",
     "text": [
      "(20, 30]     182367\n",
      "(30, 40]      52565\n",
      "(50, 60]      34980\n",
      "(40, 50]      27875\n",
      "(10, 20]      22847\n",
      "(0, 10]        6217\n",
      "(80, 90]       2148\n",
      "(60, 70]       1617\n",
      "(70, 80]        592\n",
      "(90, 100]       467\n",
      "Name: period, dtype: int64\n"
     ]
    }
   ],
   "source": [
    "# 各period期間のデータ数確認\n",
    "period_cut = pd.cut(df['period'],[0,10,20,30,40,50,60,70,80,90,100],right=True).value_counts()\n",
    "print(period_cut)"
   ]
  },
  {
   "cell_type": "markdown",
   "metadata": {},
   "source": [
    "外れ値にも見えた80付近の値も複数あるので、外れ値はなしと判断。"
   ]
  },
  {
   "cell_type": "code",
   "execution_count": 15,
   "metadata": {},
   "outputs": [
    {
     "data": {
      "text/plain": [
       "(array([3.31585e+05, 3.70000e+01, 7.00000e+00, 1.50000e+01, 5.00000e+00,\n",
       "        2.00000e+00, 2.20000e+01, 0.00000e+00, 0.00000e+00, 2.00000e+00]),\n",
       " array([1.00000000e-02, 1.66361391e+07, 3.32722782e+07, 4.99084172e+07,\n",
       "        6.65445563e+07, 8.31806954e+07, 9.98168344e+07, 1.16452974e+08,\n",
       "        1.33089113e+08, 1.49725252e+08, 1.66361391e+08]),\n",
       " <a list of 10 Patch objects>)"
      ]
     },
     "execution_count": 15,
     "metadata": {},
     "output_type": "execute_result"
    },
    {
     "data": {
      "image/png": "[encoded data removed]",
      "text/plain": [
       "<Figure size 432x288 with 1 Axes>"
      ]
     },
     "metadata": {
      "needs_background": "light"
     },
     "output_type": "display_data"
    }
   ],
   "source": [
    "# usd_goal_realの外れ値確認\n",
    "plt.hist(df['usd_goal_real'])"
   ]
  },
  {
   "cell_type": "code",
   "execution_count": 16,
   "metadata": {},
   "outputs": [
    {
     "data": {
      "text/plain": [
       "<matplotlib.axes._subplots.AxesSubplot at 0x1ab15a60eb0>"
      ]
     },
     "execution_count": 16,
     "metadata": {},
     "output_type": "execute_result"
    },
    {
     "data": {
      "image/png": "[encoded data removed]",
      "text/plain": [
       "<Figure size 432x288 with 1 Axes>"
      ]
     },
     "metadata": {
      "needs_background": "light"
     },
     "output_type": "display_data"
    }
   ],
   "source": [
    "# 箱ひげ図\n",
    "sns.boxplot(df['usd_goal_real'])"
   ]
  },
  {
   "cell_type": "code",
   "execution_count": 17,
   "metadata": {},
   "outputs": [
    {
     "name": "stdout",
     "output_type": "stream",
     "text": [
      "(0.0, 25000000.0]             331615\n",
      "(75000000.0, 100000000.0]         24\n",
      "(25000000.0, 50000000.0]          24\n",
      "(50000000.0, 75000000.0]           7\n",
      "(100000000.0, 125000000.0]         3\n",
      "(150000000.0, 175000000.0]         2\n",
      "(125000000.0, 150000000.0]         0\n",
      "Name: usd_goal_real, dtype: int64\n"
     ]
    }
   ],
   "source": [
    "# 各データ区間でのデータ数確認\n",
    "usd_cut = pd.cut(df['usd_goal_real'],[0,0.25*10**8,0.50*10**8,0.75*10**8,1*10**8,1.25*10**8,1.5*10**8,1.75*10**8],right=True).value_counts()\n",
    "print(usd_cut)"
   ]
  },
  {
   "cell_type": "markdown",
   "metadata": {},
   "source": [
    "→0.25×10^8以上のデータは複数あるが、それ以下のデータ数と桁が違うので、外れ値として削除する"
   ]
  },
  {
   "cell_type": "code",
   "execution_count": 18,
   "metadata": {},
   "outputs": [
    {
     "data": {
      "text/plain": [
       "(array([3.3126e+05, 1.5400e+02, 9.2000e+01, 2.3000e+01, 4.3000e+01,\n",
       "        5.0000e+00, 9.0000e+00, 3.0000e+00, 1.4000e+01, 6.0000e+00]),\n",
       " array([1.00000000e-02, 2.46616728e+06, 4.93233454e+06, 7.39850181e+06,\n",
       "        9.86466908e+06, 1.23308363e+07, 1.47970036e+07, 1.72631709e+07,\n",
       "        1.97293381e+07, 2.21955054e+07, 2.46616727e+07]),\n",
       " <a list of 10 Patch objects>)"
      ]
     },
     "execution_count": 18,
     "metadata": {},
     "output_type": "execute_result"
    },
    {
     "data": {
      "image/png": "[encoded data removed]",
      "text/plain": [
       "<Figure size 432x288 with 1 Axes>"
      ]
     },
     "metadata": {
      "needs_background": "light"
     },
     "output_type": "display_data"
    }
   ],
   "source": [
    "# 外れ値を削除し、ヒストグラム確認\n",
    "df = df[df['usd_goal_real']<25000000]\n",
    "plt.hist(df['usd_goal_real'])"
   ]
  },
  {
   "cell_type": "code",
   "execution_count": 19,
   "metadata": {},
   "outputs": [
    {
     "data": {
      "text/plain": [
       "(array([2.74698e+05, 2.80080e+04, 1.20140e+04, 4.39700e+03, 4.05600e+03,\n",
       "        1.02200e+03, 1.48700e+03, 5.16000e+02, 8.85000e+02, 2.36000e+02]),\n",
       " array([1.00000000e-02, 2.49850090e+04, 4.99700080e+04, 7.49550070e+04,\n",
       "        9.99400060e+04, 1.24925005e+05, 1.49910004e+05, 1.74895003e+05,\n",
       "        1.99880002e+05, 2.24865001e+05, 2.49850000e+05]),\n",
       " <a list of 10 Patch objects>)"
      ]
     },
     "execution_count": 19,
     "metadata": {},
     "output_type": "execute_result"
    },
    {
     "data": {
      "image/png": "[encoded data removed]",
      "text/plain": [
       "<Figure size 432x288 with 1 Axes>"
      ]
     },
     "metadata": {
      "needs_background": "light"
     },
     "output_type": "display_data"
    }
   ],
   "source": [
    "# 結果グラフの見た目が変わらないのでさらに2桁減らすこととする\n",
    "df = df[df['usd_goal_real']<250000]\n",
    "plt.hist(df['usd_goal_real'])"
   ]
  },
  {
   "cell_type": "markdown",
   "metadata": {},
   "source": [
    "## 特徴量選択\n",
    "\n",
    "**LASSOによる特徴量選択**  \n",
    "\n",
    "・係数が多く計算に時間がかかると思われるため、係数が小さいものを削除したい。そこでLASSOによる特徴量選択を行う。  "
   ]
  },
  {
   "cell_type": "code",
   "execution_count": 20,
   "metadata": {},
   "outputs": [],
   "source": [
    "# estimatorにモデルをセット\n",
    "# LassoCVを使って、正則化の強さは自動決定\n",
    "estimator = LassoCV(normalize=True, cv=10)\n",
    "\n",
    "# モデルの情報を使って特徴選択を行う場合は、SelectFromModelを使う\n",
    "# 今回は係数が1e-2以下である特徴を削除する\n",
    "# 係数のしきい値はthresholdで指定する\n",
    "sfm = SelectFromModel(estimator, threshold=1e-2)"
   ]
  },
  {
   "cell_type": "code",
   "execution_count": 21,
   "metadata": {
    "scrolled": true
   },
   "outputs": [
    {
     "data": {
      "text/plain": [
       "SelectFromModel(estimator=LassoCV(cv=10, normalize=True), threshold=0.01)"
      ]
     },
     "execution_count": 21,
     "metadata": {},
     "output_type": "execute_result"
    }
   ],
   "source": [
    "train_label = df[\"state\"]\n",
    "train_data = df.drop(\"state\",axis=1)\n",
    "\n",
    "y = train_label.values\n",
    "X = train_data.values\n",
    "\n",
    "# fitで特徴選択を実行\n",
    "sfm.fit(X, y)"
   ]
  },
  {
   "cell_type": "code",
   "execution_count": 22,
   "metadata": {
    "scrolled": true
   },
   "outputs": [
    {
     "data": {
      "text/plain": [
       "array([False, False, False,  True,  True,  True,  True,  True, False,\n",
       "        True,  True,  True,  True,  True,  True,  True,  True,  True,\n",
       "        True,  True, False,  True, False,  True,  True,  True,  True,\n",
       "        True,  True,  True,  True])"
      ]
     },
     "execution_count": 22,
     "metadata": {},
     "output_type": "execute_result"
    }
   ],
   "source": [
    "# get_support関数で使用する特徴のインデックスを使用\n",
    "# Trueになっている特徴が使用する特徴\n",
    "sfm.get_support()"
   ]
  },
  {
   "cell_type": "code",
   "execution_count": 23,
   "metadata": {},
   "outputs": [
    {
     "data": {
      "text/plain": [
       "Index(['usd_goal_real', 'period', 'main_category_Art',\n",
       "       'main_category_Film & Video', 'currency_DKK', 'currency_GBP'],\n",
       "      dtype='object')"
      ]
     },
     "execution_count": 23,
     "metadata": {},
     "output_type": "execute_result"
    }
   ],
   "source": [
    "# 削除すべき特徴の名前を取得 \n",
    "removed_idx  = ~sfm.get_support()\n",
    "train_data.columns[removed_idx]"
   ]
  },
  {
   "cell_type": "code",
   "execution_count": 24,
   "metadata": {
    "scrolled": true
   },
   "outputs": [
    {
     "data": {
      "text/plain": [
       "array([2.79492696e-06, 3.85843180e-03, 0.00000000e+00, 1.42659832e-01,\n",
       "       1.83947818e-01, 1.98315530e-01, 1.45903614e-02, 1.50064591e-01,\n",
       "       6.08982827e-03, 1.29950748e-01, 2.18088039e-02, 1.77375563e-01,\n",
       "       8.45686375e-02, 1.00407141e-01, 9.45451631e-02, 1.17750168e-01,\n",
       "       1.91233994e-01, 6.95646711e-02, 5.03085160e-02, 3.43365342e-02,\n",
       "       4.14351430e-03, 7.93154797e-02, 0.00000000e+00, 8.67004023e-02,\n",
       "       7.34720931e-02, 1.27384869e-01, 9.53774927e-02, 3.79088099e-02,\n",
       "       4.97020791e-02, 1.30922174e-02, 1.36589332e-02])"
      ]
     },
     "execution_count": 24,
     "metadata": {},
     "output_type": "execute_result"
    }
   ],
   "source": [
    "# LASSOで得た各特徴の係数の値を確認する\n",
    "# 係数の絶対値を取得\n",
    "abs_coef = np.abs(sfm.estimator_.coef_)\n",
    "abs_coef"
   ]
  },
  {
   "cell_type": "code",
   "execution_count": 25,
   "metadata": {
    "scrolled": true
   },
   "outputs": [
    {
     "data": {
      "image/png": "[encoded data removed]",
      "text/plain": [
       "<Figure size 432x288 with 1 Axes>"
      ]
     },
     "metadata": {
      "needs_background": "light"
     },
     "output_type": "display_data"
    }
   ],
   "source": [
    "# 係数を棒グラフで表示\n",
    "plt.barh(np.arange(0, len(abs_coef)), abs_coef, tick_label=train_data.columns.values)\n",
    "plt.show()"
   ]
  },
  {
   "cell_type": "code",
   "execution_count": 26,
   "metadata": {
    "scrolled": true
   },
   "outputs": [
    {
     "data": {
      "text/html": [
       "<div>\n",
       "<style scoped>\n",
       "    .dataframe tbody tr th:only-of-type {\n",
       "        vertical-align: middle;\n",
       "    }\n",
       "\n",
       "    .dataframe tbody tr th {\n",
       "        vertical-align: top;\n",
       "    }\n",
       "\n",
       "    .dataframe thead th {\n",
       "        text-align: right;\n",
       "    }\n",
       "</style>\n",
       "<table border=\"1\" class=\"dataframe\">\n",
       "  <thead>\n",
       "    <tr style=\"text-align: right;\">\n",
       "      <th></th>\n",
       "      <th>state</th>\n",
       "      <th>usd_goal_real</th>\n",
       "      <th>period</th>\n",
       "      <th>main_category_Comics</th>\n",
       "      <th>main_category_Crafts</th>\n",
       "      <th>main_category_Dance</th>\n",
       "      <th>main_category_Design</th>\n",
       "      <th>main_category_Fashion</th>\n",
       "      <th>main_category_Food</th>\n",
       "      <th>main_category_Games</th>\n",
       "      <th>...</th>\n",
       "      <th>currency_CHF</th>\n",
       "      <th>currency_EUR</th>\n",
       "      <th>currency_HKD</th>\n",
       "      <th>currency_JPY</th>\n",
       "      <th>currency_MXN</th>\n",
       "      <th>currency_NOK</th>\n",
       "      <th>currency_NZD</th>\n",
       "      <th>currency_SEK</th>\n",
       "      <th>currency_SGD</th>\n",
       "      <th>currency_USD</th>\n",
       "    </tr>\n",
       "  </thead>\n",
       "  <tbody>\n",
       "    <tr>\n",
       "      <th>0</th>\n",
       "      <td>0</td>\n",
       "      <td>1533.95</td>\n",
       "      <td>59</td>\n",
       "      <td>0</td>\n",
       "      <td>0</td>\n",
       "      <td>0</td>\n",
       "      <td>0</td>\n",
       "      <td>0</td>\n",
       "      <td>0</td>\n",
       "      <td>0</td>\n",
       "      <td>...</td>\n",
       "      <td>0</td>\n",
       "      <td>0</td>\n",
       "      <td>0</td>\n",
       "      <td>0</td>\n",
       "      <td>0</td>\n",
       "      <td>0</td>\n",
       "      <td>0</td>\n",
       "      <td>0</td>\n",
       "      <td>0</td>\n",
       "      <td>0</td>\n",
       "    </tr>\n",
       "    <tr>\n",
       "      <th>1</th>\n",
       "      <td>0</td>\n",
       "      <td>30000.00</td>\n",
       "      <td>60</td>\n",
       "      <td>0</td>\n",
       "      <td>0</td>\n",
       "      <td>0</td>\n",
       "      <td>0</td>\n",
       "      <td>0</td>\n",
       "      <td>0</td>\n",
       "      <td>0</td>\n",
       "      <td>...</td>\n",
       "      <td>0</td>\n",
       "      <td>0</td>\n",
       "      <td>0</td>\n",
       "      <td>0</td>\n",
       "      <td>0</td>\n",
       "      <td>0</td>\n",
       "      <td>0</td>\n",
       "      <td>0</td>\n",
       "      <td>0</td>\n",
       "      <td>1</td>\n",
       "    </tr>\n",
       "    <tr>\n",
       "      <th>2</th>\n",
       "      <td>0</td>\n",
       "      <td>45000.00</td>\n",
       "      <td>45</td>\n",
       "      <td>0</td>\n",
       "      <td>0</td>\n",
       "      <td>0</td>\n",
       "      <td>0</td>\n",
       "      <td>0</td>\n",
       "      <td>0</td>\n",
       "      <td>0</td>\n",
       "      <td>...</td>\n",
       "      <td>0</td>\n",
       "      <td>0</td>\n",
       "      <td>0</td>\n",
       "      <td>0</td>\n",
       "      <td>0</td>\n",
       "      <td>0</td>\n",
       "      <td>0</td>\n",
       "      <td>0</td>\n",
       "      <td>0</td>\n",
       "      <td>1</td>\n",
       "    </tr>\n",
       "    <tr>\n",
       "      <th>3</th>\n",
       "      <td>0</td>\n",
       "      <td>5000.00</td>\n",
       "      <td>30</td>\n",
       "      <td>0</td>\n",
       "      <td>0</td>\n",
       "      <td>0</td>\n",
       "      <td>0</td>\n",
       "      <td>0</td>\n",
       "      <td>0</td>\n",
       "      <td>0</td>\n",
       "      <td>...</td>\n",
       "      <td>0</td>\n",
       "      <td>0</td>\n",
       "      <td>0</td>\n",
       "      <td>0</td>\n",
       "      <td>0</td>\n",
       "      <td>0</td>\n",
       "      <td>0</td>\n",
       "      <td>0</td>\n",
       "      <td>0</td>\n",
       "      <td>1</td>\n",
       "    </tr>\n",
       "    <tr>\n",
       "      <th>5</th>\n",
       "      <td>1</td>\n",
       "      <td>50000.00</td>\n",
       "      <td>35</td>\n",
       "      <td>0</td>\n",
       "      <td>0</td>\n",
       "      <td>0</td>\n",
       "      <td>0</td>\n",
       "      <td>0</td>\n",
       "      <td>1</td>\n",
       "      <td>0</td>\n",
       "      <td>...</td>\n",
       "      <td>0</td>\n",
       "      <td>0</td>\n",
       "      <td>0</td>\n",
       "      <td>0</td>\n",
       "      <td>0</td>\n",
       "      <td>0</td>\n",
       "      <td>0</td>\n",
       "      <td>0</td>\n",
       "      <td>0</td>\n",
       "      <td>1</td>\n",
       "    </tr>\n",
       "    <tr>\n",
       "      <th>6</th>\n",
       "      <td>1</td>\n",
       "      <td>1000.00</td>\n",
       "      <td>20</td>\n",
       "      <td>0</td>\n",
       "      <td>0</td>\n",
       "      <td>0</td>\n",
       "      <td>0</td>\n",
       "      <td>0</td>\n",
       "      <td>1</td>\n",
       "      <td>0</td>\n",
       "      <td>...</td>\n",
       "      <td>0</td>\n",
       "      <td>0</td>\n",
       "      <td>0</td>\n",
       "      <td>0</td>\n",
       "      <td>0</td>\n",
       "      <td>0</td>\n",
       "      <td>0</td>\n",
       "      <td>0</td>\n",
       "      <td>0</td>\n",
       "      <td>1</td>\n",
       "    </tr>\n",
       "    <tr>\n",
       "      <th>7</th>\n",
       "      <td>0</td>\n",
       "      <td>25000.00</td>\n",
       "      <td>45</td>\n",
       "      <td>0</td>\n",
       "      <td>0</td>\n",
       "      <td>0</td>\n",
       "      <td>0</td>\n",
       "      <td>0</td>\n",
       "      <td>1</td>\n",
       "      <td>0</td>\n",
       "      <td>...</td>\n",
       "      <td>0</td>\n",
       "      <td>0</td>\n",
       "      <td>0</td>\n",
       "      <td>0</td>\n",
       "      <td>0</td>\n",
       "      <td>0</td>\n",
       "      <td>0</td>\n",
       "      <td>0</td>\n",
       "      <td>0</td>\n",
       "      <td>1</td>\n",
       "    </tr>\n",
       "    <tr>\n",
       "      <th>10</th>\n",
       "      <td>0</td>\n",
       "      <td>2406.39</td>\n",
       "      <td>30</td>\n",
       "      <td>0</td>\n",
       "      <td>0</td>\n",
       "      <td>0</td>\n",
       "      <td>0</td>\n",
       "      <td>0</td>\n",
       "      <td>0</td>\n",
       "      <td>0</td>\n",
       "      <td>...</td>\n",
       "      <td>0</td>\n",
       "      <td>0</td>\n",
       "      <td>0</td>\n",
       "      <td>0</td>\n",
       "      <td>0</td>\n",
       "      <td>0</td>\n",
       "      <td>0</td>\n",
       "      <td>0</td>\n",
       "      <td>0</td>\n",
       "      <td>0</td>\n",
       "    </tr>\n",
       "    <tr>\n",
       "      <th>11</th>\n",
       "      <td>1</td>\n",
       "      <td>12500.00</td>\n",
       "      <td>30</td>\n",
       "      <td>0</td>\n",
       "      <td>0</td>\n",
       "      <td>0</td>\n",
       "      <td>0</td>\n",
       "      <td>0</td>\n",
       "      <td>0</td>\n",
       "      <td>0</td>\n",
       "      <td>...</td>\n",
       "      <td>0</td>\n",
       "      <td>0</td>\n",
       "      <td>0</td>\n",
       "      <td>0</td>\n",
       "      <td>0</td>\n",
       "      <td>0</td>\n",
       "      <td>0</td>\n",
       "      <td>0</td>\n",
       "      <td>0</td>\n",
       "      <td>1</td>\n",
       "    </tr>\n",
       "    <tr>\n",
       "      <th>12</th>\n",
       "      <td>0</td>\n",
       "      <td>5000.00</td>\n",
       "      <td>30</td>\n",
       "      <td>0</td>\n",
       "      <td>1</td>\n",
       "      <td>0</td>\n",
       "      <td>0</td>\n",
       "      <td>0</td>\n",
       "      <td>0</td>\n",
       "      <td>0</td>\n",
       "      <td>...</td>\n",
       "      <td>0</td>\n",
       "      <td>0</td>\n",
       "      <td>0</td>\n",
       "      <td>0</td>\n",
       "      <td>0</td>\n",
       "      <td>0</td>\n",
       "      <td>0</td>\n",
       "      <td>0</td>\n",
       "      <td>0</td>\n",
       "      <td>1</td>\n",
       "    </tr>\n",
       "  </tbody>\n",
       "</table>\n",
       "<p>10 rows × 28 columns</p>\n",
       "</div>"
      ],
      "text/plain": [
       "    state  usd_goal_real  period  main_category_Comics  main_category_Crafts  \\\n",
       "0       0        1533.95      59                     0                     0   \n",
       "1       0       30000.00      60                     0                     0   \n",
       "2       0       45000.00      45                     0                     0   \n",
       "3       0        5000.00      30                     0                     0   \n",
       "5       1       50000.00      35                     0                     0   \n",
       "6       1        1000.00      20                     0                     0   \n",
       "7       0       25000.00      45                     0                     0   \n",
       "10      0        2406.39      30                     0                     0   \n",
       "11      1       12500.00      30                     0                     0   \n",
       "12      0        5000.00      30                     0                     1   \n",
       "\n",
       "    main_category_Dance  main_category_Design  main_category_Fashion  \\\n",
       "0                     0                     0                      0   \n",
       "1                     0                     0                      0   \n",
       "2                     0                     0                      0   \n",
       "3                     0                     0                      0   \n",
       "5                     0                     0                      0   \n",
       "6                     0                     0                      0   \n",
       "7                     0                     0                      0   \n",
       "10                    0                     0                      0   \n",
       "11                    0                     0                      0   \n",
       "12                    0                     0                      0   \n",
       "\n",
       "    main_category_Food  main_category_Games  ...  currency_CHF  currency_EUR  \\\n",
       "0                    0                    0  ...             0             0   \n",
       "1                    0                    0  ...             0             0   \n",
       "2                    0                    0  ...             0             0   \n",
       "3                    0                    0  ...             0             0   \n",
       "5                    1                    0  ...             0             0   \n",
       "6                    1                    0  ...             0             0   \n",
       "7                    1                    0  ...             0             0   \n",
       "10                   0                    0  ...             0             0   \n",
       "11                   0                    0  ...             0             0   \n",
       "12                   0                    0  ...             0             0   \n",
       "\n",
       "    currency_HKD  currency_JPY  currency_MXN  currency_NOK  currency_NZD  \\\n",
       "0              0             0             0             0             0   \n",
       "1              0             0             0             0             0   \n",
       "2              0             0             0             0             0   \n",
       "3              0             0             0             0             0   \n",
       "5              0             0             0             0             0   \n",
       "6              0             0             0             0             0   \n",
       "7              0             0             0             0             0   \n",
       "10             0             0             0             0             0   \n",
       "11             0             0             0             0             0   \n",
       "12             0             0             0             0             0   \n",
       "\n",
       "    currency_SEK  currency_SGD  currency_USD  \n",
       "0              0             0             0  \n",
       "1              0             0             1  \n",
       "2              0             0             1  \n",
       "3              0             0             1  \n",
       "5              0             0             1  \n",
       "6              0             0             1  \n",
       "7              0             0             1  \n",
       "10             0             0             0  \n",
       "11             0             0             1  \n",
       "12             0             0             1  \n",
       "\n",
       "[10 rows x 28 columns]"
      ]
     },
     "metadata": {},
     "output_type": "display_data"
    },
    {
     "data": {
      "text/html": [
       "<div>\n",
       "<style scoped>\n",
       "    .dataframe tbody tr th:only-of-type {\n",
       "        vertical-align: middle;\n",
       "    }\n",
       "\n",
       "    .dataframe tbody tr th {\n",
       "        vertical-align: top;\n",
       "    }\n",
       "\n",
       "    .dataframe thead th {\n",
       "        text-align: right;\n",
       "    }\n",
       "</style>\n",
       "<table border=\"1\" class=\"dataframe\">\n",
       "  <thead>\n",
       "    <tr style=\"text-align: right;\">\n",
       "      <th></th>\n",
       "      <th>state</th>\n",
       "      <th>usd_goal_real</th>\n",
       "      <th>period</th>\n",
       "      <th>main_category_Comics</th>\n",
       "      <th>main_category_Crafts</th>\n",
       "      <th>main_category_Dance</th>\n",
       "      <th>main_category_Design</th>\n",
       "      <th>main_category_Fashion</th>\n",
       "      <th>main_category_Food</th>\n",
       "      <th>main_category_Games</th>\n",
       "      <th>...</th>\n",
       "      <th>currency_CHF</th>\n",
       "      <th>currency_EUR</th>\n",
       "      <th>currency_HKD</th>\n",
       "      <th>currency_JPY</th>\n",
       "      <th>currency_MXN</th>\n",
       "      <th>currency_NOK</th>\n",
       "      <th>currency_NZD</th>\n",
       "      <th>currency_SEK</th>\n",
       "      <th>currency_SGD</th>\n",
       "      <th>currency_USD</th>\n",
       "    </tr>\n",
       "  </thead>\n",
       "  <tbody>\n",
       "    <tr>\n",
       "      <th>count</th>\n",
       "      <td>327319.000000</td>\n",
       "      <td>327319.000000</td>\n",
       "      <td>327319.000000</td>\n",
       "      <td>327319.000000</td>\n",
       "      <td>327319.000000</td>\n",
       "      <td>327319.000000</td>\n",
       "      <td>327319.000000</td>\n",
       "      <td>327319.000000</td>\n",
       "      <td>327319.000000</td>\n",
       "      <td>327319.000000</td>\n",
       "      <td>...</td>\n",
       "      <td>327319.000000</td>\n",
       "      <td>327319.00000</td>\n",
       "      <td>327319.000000</td>\n",
       "      <td>327319.000000</td>\n",
       "      <td>327319.000000</td>\n",
       "      <td>327319.000000</td>\n",
       "      <td>327319.000000</td>\n",
       "      <td>327319.000000</td>\n",
       "      <td>327319.000000</td>\n",
       "      <td>327319.000000</td>\n",
       "    </tr>\n",
       "    <tr>\n",
       "      <th>mean</th>\n",
       "      <td>0.408589</td>\n",
       "      <td>14273.154165</td>\n",
       "      <td>33.871245</td>\n",
       "      <td>0.030124</td>\n",
       "      <td>0.023809</td>\n",
       "      <td>0.010879</td>\n",
       "      <td>0.076506</td>\n",
       "      <td>0.060128</td>\n",
       "      <td>0.066043</td>\n",
       "      <td>0.085556</td>\n",
       "      <td>...</td>\n",
       "      <td>0.001922</td>\n",
       "      <td>0.04301</td>\n",
       "      <td>0.001439</td>\n",
       "      <td>0.000070</td>\n",
       "      <td>0.004286</td>\n",
       "      <td>0.001748</td>\n",
       "      <td>0.003859</td>\n",
       "      <td>0.004540</td>\n",
       "      <td>0.001381</td>\n",
       "      <td>0.788790</td>\n",
       "    </tr>\n",
       "    <tr>\n",
       "      <th>std</th>\n",
       "      <td>0.491574</td>\n",
       "      <td>25559.836238</td>\n",
       "      <td>12.671519</td>\n",
       "      <td>0.170927</td>\n",
       "      <td>0.152453</td>\n",
       "      <td>0.103735</td>\n",
       "      <td>0.265807</td>\n",
       "      <td>0.237724</td>\n",
       "      <td>0.248357</td>\n",
       "      <td>0.279707</td>\n",
       "      <td>...</td>\n",
       "      <td>0.043795</td>\n",
       "      <td>0.20288</td>\n",
       "      <td>0.037906</td>\n",
       "      <td>0.008382</td>\n",
       "      <td>0.065330</td>\n",
       "      <td>0.041767</td>\n",
       "      <td>0.061998</td>\n",
       "      <td>0.067226</td>\n",
       "      <td>0.037135</td>\n",
       "      <td>0.408168</td>\n",
       "    </tr>\n",
       "    <tr>\n",
       "      <th>min</th>\n",
       "      <td>0.000000</td>\n",
       "      <td>0.010000</td>\n",
       "      <td>1.000000</td>\n",
       "      <td>0.000000</td>\n",
       "      <td>0.000000</td>\n",
       "      <td>0.000000</td>\n",
       "      <td>0.000000</td>\n",
       "      <td>0.000000</td>\n",
       "      <td>0.000000</td>\n",
       "      <td>0.000000</td>\n",
       "      <td>...</td>\n",
       "      <td>0.000000</td>\n",
       "      <td>0.00000</td>\n",
       "      <td>0.000000</td>\n",
       "      <td>0.000000</td>\n",
       "      <td>0.000000</td>\n",
       "      <td>0.000000</td>\n",
       "      <td>0.000000</td>\n",
       "      <td>0.000000</td>\n",
       "      <td>0.000000</td>\n",
       "      <td>0.000000</td>\n",
       "    </tr>\n",
       "    <tr>\n",
       "      <th>25%</th>\n",
       "      <td>0.000000</td>\n",
       "      <td>2000.000000</td>\n",
       "      <td>30.000000</td>\n",
       "      <td>0.000000</td>\n",
       "      <td>0.000000</td>\n",
       "      <td>0.000000</td>\n",
       "      <td>0.000000</td>\n",
       "      <td>0.000000</td>\n",
       "      <td>0.000000</td>\n",
       "      <td>0.000000</td>\n",
       "      <td>...</td>\n",
       "      <td>0.000000</td>\n",
       "      <td>0.00000</td>\n",
       "      <td>0.000000</td>\n",
       "      <td>0.000000</td>\n",
       "      <td>0.000000</td>\n",
       "      <td>0.000000</td>\n",
       "      <td>0.000000</td>\n",
       "      <td>0.000000</td>\n",
       "      <td>0.000000</td>\n",
       "      <td>1.000000</td>\n",
       "    </tr>\n",
       "    <tr>\n",
       "      <th>50%</th>\n",
       "      <td>0.000000</td>\n",
       "      <td>5000.000000</td>\n",
       "      <td>30.000000</td>\n",
       "      <td>0.000000</td>\n",
       "      <td>0.000000</td>\n",
       "      <td>0.000000</td>\n",
       "      <td>0.000000</td>\n",
       "      <td>0.000000</td>\n",
       "      <td>0.000000</td>\n",
       "      <td>0.000000</td>\n",
       "      <td>...</td>\n",
       "      <td>0.000000</td>\n",
       "      <td>0.00000</td>\n",
       "      <td>0.000000</td>\n",
       "      <td>0.000000</td>\n",
       "      <td>0.000000</td>\n",
       "      <td>0.000000</td>\n",
       "      <td>0.000000</td>\n",
       "      <td>0.000000</td>\n",
       "      <td>0.000000</td>\n",
       "      <td>1.000000</td>\n",
       "    </tr>\n",
       "    <tr>\n",
       "      <th>75%</th>\n",
       "      <td>1.000000</td>\n",
       "      <td>15000.000000</td>\n",
       "      <td>36.000000</td>\n",
       "      <td>0.000000</td>\n",
       "      <td>0.000000</td>\n",
       "      <td>0.000000</td>\n",
       "      <td>0.000000</td>\n",
       "      <td>0.000000</td>\n",
       "      <td>0.000000</td>\n",
       "      <td>0.000000</td>\n",
       "      <td>...</td>\n",
       "      <td>0.000000</td>\n",
       "      <td>0.00000</td>\n",
       "      <td>0.000000</td>\n",
       "      <td>0.000000</td>\n",
       "      <td>0.000000</td>\n",
       "      <td>0.000000</td>\n",
       "      <td>0.000000</td>\n",
       "      <td>0.000000</td>\n",
       "      <td>0.000000</td>\n",
       "      <td>1.000000</td>\n",
       "    </tr>\n",
       "    <tr>\n",
       "      <th>max</th>\n",
       "      <td>1.000000</td>\n",
       "      <td>249850.000000</td>\n",
       "      <td>92.000000</td>\n",
       "      <td>1.000000</td>\n",
       "      <td>1.000000</td>\n",
       "      <td>1.000000</td>\n",
       "      <td>1.000000</td>\n",
       "      <td>1.000000</td>\n",
       "      <td>1.000000</td>\n",
       "      <td>1.000000</td>\n",
       "      <td>...</td>\n",
       "      <td>1.000000</td>\n",
       "      <td>1.00000</td>\n",
       "      <td>1.000000</td>\n",
       "      <td>1.000000</td>\n",
       "      <td>1.000000</td>\n",
       "      <td>1.000000</td>\n",
       "      <td>1.000000</td>\n",
       "      <td>1.000000</td>\n",
       "      <td>1.000000</td>\n",
       "      <td>1.000000</td>\n",
       "    </tr>\n",
       "  </tbody>\n",
       "</table>\n",
       "<p>8 rows × 28 columns</p>\n",
       "</div>"
      ],
      "text/plain": [
       "               state  usd_goal_real         period  main_category_Comics  \\\n",
       "count  327319.000000  327319.000000  327319.000000         327319.000000   \n",
       "mean        0.408589   14273.154165      33.871245              0.030124   \n",
       "std         0.491574   25559.836238      12.671519              0.170927   \n",
       "min         0.000000       0.010000       1.000000              0.000000   \n",
       "25%         0.000000    2000.000000      30.000000              0.000000   \n",
       "50%         0.000000    5000.000000      30.000000              0.000000   \n",
       "75%         1.000000   15000.000000      36.000000              0.000000   \n",
       "max         1.000000  249850.000000      92.000000              1.000000   \n",
       "\n",
       "       main_category_Crafts  main_category_Dance  main_category_Design  \\\n",
       "count         327319.000000        327319.000000         327319.000000   \n",
       "mean               0.023809             0.010879              0.076506   \n",
       "std                0.152453             0.103735              0.265807   \n",
       "min                0.000000             0.000000              0.000000   \n",
       "25%                0.000000             0.000000              0.000000   \n",
       "50%                0.000000             0.000000              0.000000   \n",
       "75%                0.000000             0.000000              0.000000   \n",
       "max                1.000000             1.000000              1.000000   \n",
       "\n",
       "       main_category_Fashion  main_category_Food  main_category_Games  ...  \\\n",
       "count          327319.000000       327319.000000        327319.000000  ...   \n",
       "mean                0.060128            0.066043             0.085556  ...   \n",
       "std                 0.237724            0.248357             0.279707  ...   \n",
       "min                 0.000000            0.000000             0.000000  ...   \n",
       "25%                 0.000000            0.000000             0.000000  ...   \n",
       "50%                 0.000000            0.000000             0.000000  ...   \n",
       "75%                 0.000000            0.000000             0.000000  ...   \n",
       "max                 1.000000            1.000000             1.000000  ...   \n",
       "\n",
       "        currency_CHF  currency_EUR   currency_HKD   currency_JPY  \\\n",
       "count  327319.000000  327319.00000  327319.000000  327319.000000   \n",
       "mean        0.001922       0.04301       0.001439       0.000070   \n",
       "std         0.043795       0.20288       0.037906       0.008382   \n",
       "min         0.000000       0.00000       0.000000       0.000000   \n",
       "25%         0.000000       0.00000       0.000000       0.000000   \n",
       "50%         0.000000       0.00000       0.000000       0.000000   \n",
       "75%         0.000000       0.00000       0.000000       0.000000   \n",
       "max         1.000000       1.00000       1.000000       1.000000   \n",
       "\n",
       "        currency_MXN   currency_NOK   currency_NZD   currency_SEK  \\\n",
       "count  327319.000000  327319.000000  327319.000000  327319.000000   \n",
       "mean        0.004286       0.001748       0.003859       0.004540   \n",
       "std         0.065330       0.041767       0.061998       0.067226   \n",
       "min         0.000000       0.000000       0.000000       0.000000   \n",
       "25%         0.000000       0.000000       0.000000       0.000000   \n",
       "50%         0.000000       0.000000       0.000000       0.000000   \n",
       "75%         0.000000       0.000000       0.000000       0.000000   \n",
       "max         1.000000       1.000000       1.000000       1.000000   \n",
       "\n",
       "        currency_SGD   currency_USD  \n",
       "count  327319.000000  327319.000000  \n",
       "mean        0.001381       0.788790  \n",
       "std         0.037135       0.408168  \n",
       "min         0.000000       0.000000  \n",
       "25%         0.000000       1.000000  \n",
       "50%         0.000000       1.000000  \n",
       "75%         0.000000       1.000000  \n",
       "max         1.000000       1.000000  \n",
       "\n",
       "[8 rows x 28 columns]"
      ]
     },
     "execution_count": 26,
     "metadata": {},
     "output_type": "execute_result"
    }
   ],
   "source": [
    "# 係数の小さかった'main_category_Art','main_category_Film & Video', 'currency_DKK', 'currency_GBP'を削除\n",
    "# ただし、usd_goal_real,periodは重要そうなので、削除しない\n",
    "df = df.drop(['main_category_Art','main_category_Film & Video', 'currency_DKK', 'currency_GBP'], axis=1)\n",
    "\n",
    "display(df.head(10))\n",
    "df.describe()"
   ]
  },
  {
   "cell_type": "markdown",
   "metadata": {},
   "source": [
    " ## モデル構築"
   ]
  },
  {
   "cell_type": "markdown",
   "metadata": {},
   "source": [
    "## ①ホールドアウト法"
   ]
  },
  {
   "cell_type": "markdown",
   "metadata": {},
   "source": [
    "データを学習用とテスト用に分け、テスト用データで学習済みモデルの汎化誤差を評価する"
   ]
  },
  {
   "cell_type": "code",
   "execution_count": 27,
   "metadata": {},
   "outputs": [],
   "source": [
    "# X, yの定義\n",
    "y = df['state'].values\n",
    "X = df.drop('state',axis=1).values"
   ]
  },
  {
   "cell_type": "code",
   "execution_count": 28,
   "metadata": {},
   "outputs": [],
   "source": [
    "# 全データのうち、20%をテスト用データとする\n",
    "test_size = 0.2\n",
    "# ホールドアウト法を実行（テストデータはランダム選択）\n",
    "X_train, X_test, y_train, y_test = train_test_split(X, y, test_size=test_size, random_state=1234)"
   ]
  },
  {
   "cell_type": "markdown",
   "metadata": {},
   "source": [
    "学習用データ：fit_transform  \n",
    "訓練データ：transform  \n",
    "  \n",
    "**訓練誤差を求める**"
   ]
  },
  {
   "cell_type": "code",
   "execution_count": 29,
   "metadata": {},
   "outputs": [],
   "source": [
    "# 学習用データを標準化する\n",
    "std_scaler = StandardScaler() \n",
    "# fit_transform関数で標準化した学習データX_train_stdを得る\n",
    "X_train_std= std_scaler.fit_transform(X_train)"
   ]
  },
  {
   "cell_type": "code",
   "execution_count": 30,
   "metadata": {},
   "outputs": [
    {
     "name": "stdout",
     "output_type": "stream",
     "text": [
      "学習データ（訓練誤差）\n",
      "正答率（Accuracy） = 64.073%\n",
      "適合率（Precision） = 57.610%\n",
      "再現率（Recall） = 46.077%\n",
      "F1値（F1-score） = 51.202%\n"
     ]
    }
   ],
   "source": [
    "# モデルを作成、学習（ロジスティクス回帰）\n",
    "clf = SGDClassifier(loss='log', penalty='none', max_iter=10000, fit_intercept=True, random_state=1234,  tol=1e-3)\n",
    "clf.fit(X_train_std, y_train)\n",
    "\n",
    "# ラベルを予測\n",
    "y_train_est = clf.predict(X_train_std)\n",
    "\n",
    "print(\"学習データ（訓練誤差）\")\n",
    "\n",
    "# 正答率を計算\n",
    "accuracy =  accuracy_score(y_train, y_train_est)\n",
    "print('正答率（Accuracy） = {:.3f}%'.format(100 * accuracy))\n",
    "\n",
    "# Precision, Recall, F1-scoreを計算\n",
    "precision, recall, f1_score, _ = precision_recall_fscore_support(y_train, y_train_est)\n",
    "\n",
    "# Precision, Recall, F1-scoreを表示\n",
    "print('適合率（Precision） = {:.3f}%'.format(100 * precision[1]))\n",
    "print('再現率（Recall） = {:.3f}%'.format(100 * recall[1]))\n",
    "print('F1値（F1-score） = {:.3f}%'.format(100 * f1_score[1]))"
   ]
  },
  {
   "cell_type": "markdown",
   "metadata": {},
   "source": [
    "・Day1よりも下がった（Dayとの違いは、usd_goal_realの外れ値を除いたこと、ホールドアウト法を用いたこと）"
   ]
  },
  {
   "cell_type": "markdown",
   "metadata": {},
   "source": [
    "**汎化誤差を求める（前回間違えた部分）**"
   ]
  },
  {
   "cell_type": "code",
   "execution_count": 31,
   "metadata": {},
   "outputs": [
    {
     "name": "stdout",
     "output_type": "stream",
     "text": [
      "テスト用データ（汎化誤差）\n",
      "正答率（Accuracy） = 63.835%\n",
      "適合率（Precision） = 56.889%\n",
      "再現率（Recall） = 45.707%\n",
      "F1値（F1-score） = 50.688%\n"
     ]
    }
   ],
   "source": [
    "# テストデータを標準化\n",
    "X_test_std= std_scaler.transform(X_test)\n",
    "\n",
    "# 学習データでclf.fitしたモデルを使って、テストデータに対してclf.predictを呼び出す\n",
    "y_test_est = clf.predict(X_test_std)\n",
    "\n",
    "print(\"テスト用データ（汎化誤差）\")\n",
    "\n",
    "# 正答率を計算\n",
    "accuracy =  accuracy_score(y_test, y_test_est)\n",
    "print('正答率（Accuracy） = {:.3f}%'.format(100 * accuracy))\n",
    "\n",
    "# Precision, Recall, F1-scoreを計算\n",
    "precision, recall, f1_score, _ = precision_recall_fscore_support(y_test, y_test_est)\n",
    "\n",
    "# Precision, Recall, F1-scoreを表示\n",
    "print('適合率（Precision） = {:.3f}%'.format(100 * precision[1]))\n",
    "print('再現率（Recall） = {:.3f}%'.format(100 * recall[1]))\n",
    "print('F1値（F1-score） = {:.3f}%'.format(100 * f1_score[1]))"
   ]
  },
  {
   "cell_type": "markdown",
   "metadata": {},
   "source": [
    "## ②交差検証（クロスバリデーション）法"
   ]
  },
  {
   "cell_type": "code",
   "execution_count": 32,
   "metadata": {
    "scrolled": true
   },
   "outputs": [
    {
     "name": "stdout",
     "output_type": "stream",
     "text": [
      "Fold 1\n",
      "  正答率（Accuracy） = 64.313%\n",
      "  適合率（Precision） = 59.407%\n",
      "  再現率（Recall） = 38.667%\n",
      "  F1値（F1-score） = 46.844%\n",
      "\n",
      "Fold 2\n",
      "  正答率（Accuracy） = 64.472%\n",
      "  適合率（Precision） = 57.407%\n",
      "  再現率（Recall） = 51.630%\n",
      "  F1値（F1-score） = 54.366%\n",
      "\n",
      "Fold 3\n",
      "  正答率（Accuracy） = 63.795%\n",
      "  適合率（Precision） = 56.669%\n",
      "  再現率（Recall） = 46.987%\n",
      "  F1値（F1-score） = 51.376%\n",
      "\n",
      "Fold 4\n",
      "  正答率（Accuracy） = 63.678%\n",
      "  適合率（Precision） = 57.838%\n",
      "  再現率（Recall） = 42.239%\n",
      "  F1値（F1-score） = 48.823%\n",
      "\n",
      "Fold 5\n",
      "  正答率（Accuracy） = 63.922%\n",
      "  適合率（Precision） = 60.311%\n",
      "  再現率（Recall） = 34.569%\n",
      "  F1値（F1-score） = 43.948%\n",
      "\n",
      "交差検証結果\n",
      "正答率（Accuracy） = 64.036%\n",
      "適合率（Precision） = 58.326%\n",
      "再現率（Recall） = 42.818%\n",
      "F1値（F1-score） = 49.071%\n"
     ]
    }
   ],
   "source": [
    "# X, yの定義\n",
    "y = df['state'].values\n",
    "X = df.drop('state',axis=1).values\n",
    "\n",
    "# グループ数を設定（今回は5分割）\n",
    "n_split = 5\n",
    "\n",
    "# 各予測精度の初期値をゼロにする\n",
    "cross_valid_accuracy = 0\n",
    "cross_valid_precision = 0\n",
    "cross_valid_recall = 0\n",
    "cross_valid_f1_score = 0\n",
    "split_num = 1\n",
    "\n",
    "# テスト役を交代させながら学習と評価を繰り返す\n",
    "for train_idx, test_idx in KFold(n_splits=n_split, shuffle=True, random_state=1234).split(X, y):\n",
    "    \n",
    "    #学習用データ\n",
    "    X_train, y_train = X[train_idx], y[train_idx]\n",
    "    #テスト用データ\n",
    "    X_test, y_test = X[test_idx], y[test_idx]     \n",
    "    \n",
    "    #標準化 #テストデータはfitしない\n",
    "    std_scaler = StandardScaler() \n",
    "    X_train_std= std_scaler.fit_transform(X_train)\n",
    "    X_test_std= std_scaler.transform(X_test)\n",
    "    \n",
    "    #学習用データを使ってロジスティック回帰モデル作成\n",
    "    clf = SGDClassifier(loss='log', penalty='none', max_iter=10000, fit_intercept=True, random_state=1234,  tol=1e-3)\n",
    "    clf.fit(X_train_std, y_train)\n",
    "    \n",
    "    # テストデータのラベルを予測\n",
    "    y_test_est = clf.predict(X_test_std)\n",
    "    \n",
    "    # 予測精度を計算\n",
    "    accuracy =  accuracy_score(y_test, y_test_est)\n",
    "    precision, recall, f1_score, _ = precision_recall_fscore_support(y_test, y_test_est)\n",
    "\n",
    "    # Precision, Recall, F1-scoreを表示\n",
    "    print(\"Fold %s\"%split_num)\n",
    "    print('  正答率（Accuracy） = {:.3f}%'.format(100 * accuracy))\n",
    "    print('  適合率（Precision） = {:.3f}%'.format(100 * precision[1]))\n",
    "    print('  再現率（Recall） = {:.3f}%'.format(100 * recall[1]))\n",
    "    print('  F1値（F1-score） = {:.3f}%'.format(100 * f1_score[1]))\n",
    "    print()\n",
    "\n",
    "    # スコア平均を求める\n",
    "    cross_valid_accuracy += accuracy\n",
    "    cross_valid_precision += precision[1]\n",
    "    cross_valid_recall += recall[1]\n",
    "    cross_valid_f1_score += f1_score[1]\n",
    "    \n",
    "    split_num += 1\n",
    "\n",
    "print(\"交差検証結果\")\n",
    "print('正答率（Accuracy） = {:.3f}%'.format(100 * cross_valid_accuracy / n_split))\n",
    "print('適合率（Precision） = {:.3f}%'.format(100 * cross_valid_precision / n_split))\n",
    "print('再現率（Recall） = {:.3f}%'.format(100 * cross_valid_recall / n_split))\n",
    "print('F1値（F1-score） = {:.3f}%'.format(100 * cross_valid_f1_score / n_split))"
   ]
  },
  {
   "cell_type": "markdown",
   "metadata": {},
   "source": [
    "## ③SVM\n",
    "・前回できなかったので、今回実施する。  \n",
    "・全データでは重いので、データをサンプリングし、少量データにて計算する。"
   ]
  },
  {
   "cell_type": "code",
   "execution_count": 33,
   "metadata": {},
   "outputs": [
    {
     "data": {
      "text/plain": [
       "SVC(C=5, gamma=1)"
      ]
     },
     "execution_count": 33,
     "metadata": {},
     "output_type": "execute_result"
    }
   ],
   "source": [
    "# まずは10000データをサンプリングしSVM実行\n",
    "# 後々困るため、df_svmとする\n",
    "df_svm = df.sample(10000, random_state=1234)\n",
    "\n",
    "y = df_svm['state'].values\n",
    "X = df_svm.drop('state', axis=1).values\n",
    "\n",
    "test_size = 0.2\n",
    "X_train, X_test, y_train, y_test = train_test_split(X, y, test_size = test_size, random_state = 1234)\n",
    "\n",
    "# 標準化\n",
    "stdsc = StandardScaler() \n",
    "X_train_std = stdsc.fit_transform(X_train)\n",
    "X_test_std = stdsc.transform(X_test)\n",
    "\n",
    "# SVMの実行（Cはペナルティの効き具合で任意に決める）\n",
    "# rbfは非線形カーネル（ガウスカーネル＝併せてgammaの指定必要）\n",
    "# パラメーターは追ってグリッドサーチを行う\n",
    "C = 5\n",
    "kernel = \"rbf\"\n",
    "gamma = 1\n",
    "clf = SVC(C=C, kernel=kernel, gamma=gamma)\n",
    "clf.fit(X_train_std, y_train)"
   ]
  },
  {
   "cell_type": "code",
   "execution_count": 34,
   "metadata": {},
   "outputs": [
    {
     "name": "stdout",
     "output_type": "stream",
     "text": [
      "正答率 = 62.350%\n",
      "適合率（Precision） = 55.700%\n",
      "再現率（Recall） = 41.555%\n",
      "F1値（F1-score） = 47.599%\n"
     ]
    }
   ],
   "source": [
    "# 未知のデータを識別する\n",
    "y_test_est = clf.predict(X_test_std)\n",
    "\n",
    "# 正答率を表示\n",
    "print('正答率 = {:.3f}%'.format(100 * accuracy_score(y_test, y_test_est)))\n",
    "\n",
    "# Precision, Recall, F1-scoreを計算\n",
    "precision, recall, f1_score, _ = precision_recall_fscore_support(y_test, y_test_est)\n",
    "\n",
    "# カテゴリ「state」に関するPrecision, Recall, F1-scoreを表示\n",
    "print('適合率（Precision） = {:.3f}%'.format(100 * precision[1]))\n",
    "print('再現率（Recall） = {:.3f}%'.format(100 * recall[1]))\n",
    "print('F1値（F1-score） = {:.3f}%'.format(100 * f1_score[1]))"
   ]
  },
  {
   "cell_type": "markdown",
   "metadata": {},
   "source": [
    "**ハイパーパラメータのグリッドサーチ**"
   ]
  },
  {
   "cell_type": "code",
   "execution_count": 35,
   "metadata": {},
   "outputs": [
    {
     "name": "stdout",
     "output_type": "stream",
     "text": [
      "{'C': 5, 'kernel': 'rbf'} 0.6362509262486226\n"
     ]
    }
   ],
   "source": [
    "parameters = {'kernel':['linear', 'rbf', 'poly', 'sigmoid'], 'C':[1, 5]} \n",
    "model = SVC(gamma=\"scale\") \n",
    "clf = GridSearchCV(model, parameters, cv=3,)\n",
    "clf.fit(X_train_std, y_train)\n",
    "print(clf.best_params_, clf.best_score_)"
   ]
  },
  {
   "cell_type": "code",
   "execution_count": 36,
   "metadata": {
    "scrolled": true
   },
   "outputs": [
    {
     "name": "stdout",
     "output_type": "stream",
     "text": [
      "正答率 = 62.050%\n",
      "適合率（Precision） = 55.882%\n",
      "再現率（Recall） = 36.938%\n",
      "F1値（F1-score） = 44.477%\n"
     ]
    }
   ],
   "source": [
    "# 最適パラメータを用いて識別する\n",
    "clf2 = SVC(**clf.best_params_, gamma=\"scale\") # gamma=scaleにすると、gammaが自動で計算される\n",
    "clf2.fit(X_train_std, y_train)\n",
    "\n",
    "# 未知のデータを識別する\n",
    "y_test_est = clf2.predict(X_test_std)\n",
    "\n",
    "# 正答率を表示\n",
    "print('正答率 = {:.3f}%'.format(100 * accuracy_score(y_test, y_test_est)))\n",
    "\n",
    "# Precision, Recall, F1-scoreを計算\n",
    "precision, recall, f1_score, _ = precision_recall_fscore_support(y_test, y_test_est)\n",
    "\n",
    "# カテゴリ「state」に関するPrecision, Recall, F1-scoreを表示\n",
    "print('適合率（Precision） = {:.3f}%'.format(100 * precision[1]))\n",
    "print('再現率（Recall） = {:.3f}%'.format(100 * recall[1]))\n",
    "print('F1値（F1-score） = {:.3f}%'.format(100 * f1_score[1]))"
   ]
  },
  {
   "cell_type": "markdown",
   "metadata": {},
   "source": [
    "→SVMはデータ数を10000と絞っているため、正答率が悪くなるのはやむを得ないと考える。ただし、パラメータを最適化したら正答率が下がったのはなぜか。Cを1~\n",
    "5としたからか。"
   ]
  },
  {
   "cell_type": "markdown",
   "metadata": {},
   "source": [
    "## ④ランダムフォレスト"
   ]
  },
  {
   "cell_type": "code",
   "execution_count": 37,
   "metadata": {
    "scrolled": true
   },
   "outputs": [
    {
     "name": "stdout",
     "output_type": "stream",
     "text": [
      "score= 0.6293829566875128\n",
      "[2.84950187e-01 2.37463511e-01 4.38037038e-02 2.04985463e-02\n",
      " 1.14046217e-02 4.11090661e-03 1.19920738e-02 7.95275330e-02\n",
      " 0.00000000e+00 1.01229714e-02 5.68628399e-02 0.00000000e+00\n",
      " 2.58238602e-02 1.25282605e-01 7.15085640e-02 1.57029651e-04\n",
      " 4.70197342e-03 0.00000000e+00 4.52522273e-03 0.00000000e+00\n",
      " 0.00000000e+00 3.47459235e-04 0.00000000e+00 3.18669655e-06\n",
      " 1.01875522e-04 0.00000000e+00 6.81132869e-03]\n"
     ]
    },
    {
     "data": {
      "image/png": "[encoded data removed]",
      "text/plain": [
       "<Figure size 504x144 with 1 Axes>"
      ]
     },
     "metadata": {
      "needs_background": "light"
     },
     "output_type": "display_data"
    }
   ],
   "source": [
    "y_train = df['state'].values\n",
    "X_train = df.drop('state', axis=1).values\n",
    "\n",
    "# ランダムフォレストの設定\n",
    "# n_estimator、決定木を10個つくる\n",
    "# 過学習を防ぐため枝は増やしすぎない\n",
    "# 総データ数の約1%である3,000をmin_samplesとする\n",
    "#→importanceがすべて0となったので、100とする\n",
    "clf = RandomForestClassifier(n_estimators=10, criterion=\"gini\", max_depth=5, min_samples_split=100, min_samples_leaf=100, random_state=1234)\n",
    "clf.fit(X_train, y_train)\n",
    "print(\"score=\", clf.score(X_train, y_train))\n",
    "\n",
    "# 説明変数の重要度を出力する\n",
    "# scikit-learnで算出される重要度は、ある説明変数による不純度の減少量合計である。\n",
    "print(clf.feature_importances_)\n",
    "pd.DataFrame(clf.feature_importances_, index=df.columns[1:]).plot.bar(figsize=(7,2))\n",
    "plt.ylabel(\"Importance\")\n",
    "plt.xlabel(\"Features\")\n",
    "plt.show()"
   ]
  },
  {
   "cell_type": "code",
   "execution_count": 38,
   "metadata": {
    "scrolled": true
   },
   "outputs": [
    {
     "name": "stdout",
     "output_type": "stream",
     "text": [
      "0\n"
     ]
    },
    {
     "ename": "InvocationException",
     "evalue": "GraphViz's executables not found",
     "output_type": "error",
     "traceback": [
      "\u001b[1;31m---------------------------------------------------------------------------\u001b[0m",
      "\u001b[1;31mInvocationException\u001b[0m                       Traceback (most recent call last)",
      "\u001b[1;32m<ipython-input-38-4a530de083d4>\u001b[0m in \u001b[0;36m<module>\u001b[1;34m\u001b[0m\n\u001b[0;32m     10\u001b[0m                          special_characters=True)\n\u001b[0;32m     11\u001b[0m     \u001b[0mgraph\u001b[0m \u001b[1;33m=\u001b[0m \u001b[0mpydotplus\u001b[0m\u001b[1;33m.\u001b[0m\u001b[0mgraph_from_dot_data\u001b[0m\u001b[1;33m(\u001b[0m\u001b[0mdot_data\u001b[0m\u001b[1;33m.\u001b[0m\u001b[0mgetvalue\u001b[0m\u001b[1;33m(\u001b[0m\u001b[1;33m)\u001b[0m\u001b[1;33m)\u001b[0m\u001b[1;33m\u001b[0m\u001b[1;33m\u001b[0m\u001b[0m\n\u001b[1;32m---> 12\u001b[1;33m     \u001b[0mdisplay\u001b[0m\u001b[1;33m(\u001b[0m\u001b[0mImage\u001b[0m\u001b[1;33m(\u001b[0m\u001b[0mgraph\u001b[0m\u001b[1;33m.\u001b[0m\u001b[0mcreate_png\u001b[0m\u001b[1;33m(\u001b[0m\u001b[1;33m)\u001b[0m\u001b[1;33m)\u001b[0m\u001b[1;33m)\u001b[0m\u001b[1;33m\u001b[0m\u001b[1;33m\u001b[0m\u001b[0m\n\u001b[0m\u001b[0;32m     13\u001b[0m     \u001b[0mgraph\u001b[0m\u001b[1;33m.\u001b[0m\u001b[0mwrite_pdf\u001b[0m\u001b[1;33m(\u001b[0m\u001b[1;34m'tree.pdf'\u001b[0m\u001b[1;33m.\u001b[0m\u001b[0mformat\u001b[0m\u001b[1;33m(\u001b[0m\u001b[0mi\u001b[0m\u001b[1;33m)\u001b[0m\u001b[1;33m)\u001b[0m\u001b[1;33m\u001b[0m\u001b[1;33m\u001b[0m\u001b[0m\n",
      "\u001b[1;32m~\\anaconda3\\lib\\site-packages\\pydotplus\\graphviz.py\u001b[0m in \u001b[0;36m<lambda>\u001b[1;34m(f, prog)\u001b[0m\n\u001b[0;32m   1795\u001b[0m             self.__setattr__(\n\u001b[0;32m   1796\u001b[0m                 \u001b[1;34m'create_'\u001b[0m \u001b[1;33m+\u001b[0m \u001b[0mfrmt\u001b[0m\u001b[1;33m,\u001b[0m\u001b[1;33m\u001b[0m\u001b[1;33m\u001b[0m\u001b[0m\n\u001b[1;32m-> 1797\u001b[1;33m                 \u001b[1;32mlambda\u001b[0m \u001b[0mf\u001b[0m\u001b[1;33m=\u001b[0m\u001b[0mfrmt\u001b[0m\u001b[1;33m,\u001b[0m \u001b[0mprog\u001b[0m\u001b[1;33m=\u001b[0m\u001b[0mself\u001b[0m\u001b[1;33m.\u001b[0m\u001b[0mprog\u001b[0m\u001b[1;33m:\u001b[0m \u001b[0mself\u001b[0m\u001b[1;33m.\u001b[0m\u001b[0mcreate\u001b[0m\u001b[1;33m(\u001b[0m\u001b[0mformat\u001b[0m\u001b[1;33m=\u001b[0m\u001b[0mf\u001b[0m\u001b[1;33m,\u001b[0m \u001b[0mprog\u001b[0m\u001b[1;33m=\u001b[0m\u001b[0mprog\u001b[0m\u001b[1;33m)\u001b[0m\u001b[1;33m\u001b[0m\u001b[1;33m\u001b[0m\u001b[0m\n\u001b[0m\u001b[0;32m   1798\u001b[0m             )\n\u001b[0;32m   1799\u001b[0m             \u001b[0mf\u001b[0m \u001b[1;33m=\u001b[0m \u001b[0mself\u001b[0m\u001b[1;33m.\u001b[0m\u001b[0m__dict__\u001b[0m\u001b[1;33m[\u001b[0m\u001b[1;34m'create_'\u001b[0m \u001b[1;33m+\u001b[0m \u001b[0mfrmt\u001b[0m\u001b[1;33m]\u001b[0m\u001b[1;33m\u001b[0m\u001b[1;33m\u001b[0m\u001b[0m\n",
      "\u001b[1;32m~\\anaconda3\\lib\\site-packages\\pydotplus\\graphviz.py\u001b[0m in \u001b[0;36mcreate\u001b[1;34m(self, prog, format)\u001b[0m\n\u001b[0;32m   1957\u001b[0m             \u001b[0mself\u001b[0m\u001b[1;33m.\u001b[0m\u001b[0mprogs\u001b[0m \u001b[1;33m=\u001b[0m \u001b[0mfind_graphviz\u001b[0m\u001b[1;33m(\u001b[0m\u001b[1;33m)\u001b[0m\u001b[1;33m\u001b[0m\u001b[1;33m\u001b[0m\u001b[0m\n\u001b[0;32m   1958\u001b[0m             \u001b[1;32mif\u001b[0m \u001b[0mself\u001b[0m\u001b[1;33m.\u001b[0m\u001b[0mprogs\u001b[0m \u001b[1;32mis\u001b[0m \u001b[1;32mNone\u001b[0m\u001b[1;33m:\u001b[0m\u001b[1;33m\u001b[0m\u001b[1;33m\u001b[0m\u001b[0m\n\u001b[1;32m-> 1959\u001b[1;33m                 raise InvocationException(\n\u001b[0m\u001b[0;32m   1960\u001b[0m                     'GraphViz\\'s executables not found')\n\u001b[0;32m   1961\u001b[0m \u001b[1;33m\u001b[0m\u001b[0m\n",
      "\u001b[1;31mInvocationException\u001b[0m: GraphViz's executables not found"
     ]
    }
   ],
   "source": [
    "for i, est in enumerate(clf.estimators_):\n",
    "    print(i)\n",
    "    \n",
    "    # 決定木の描画\n",
    "    dot_data = StringIO() #dotファイル情報の格納先\n",
    "    export_graphviz(est, out_file=dot_data,\n",
    "                         feature_names=df.columns[1:],\n",
    "                         class_names=['True', 'False'],\n",
    "                         filled=True, rounded=True,\n",
    "                         special_characters=True)\n",
    "    graph = pydotplus.graph_from_dot_data(dot_data.getvalue())\n",
    "    display(Image(graph.create_png()))\n",
    "    graph.write_pdf('tree.pdf'.format(i))"
   ]
  },
  {
   "cell_type": "markdown",
   "metadata": {},
   "source": [
    "→何を試しても上記エラーが消えないため断念。graphvizはインストールしたのだが..."
   ]
  },
  {
   "cell_type": "markdown",
   "metadata": {},
   "source": [
    "## ⑤アダブーストと決定木"
   ]
  },
  {
   "cell_type": "code",
   "execution_count": 39,
   "metadata": {},
   "outputs": [
    {
     "name": "stdout",
     "output_type": "stream",
     "text": [
      "score= 0.6590909785255362\n",
      "[0.33599103 0.24773152 0.03250335 0.02491736 0.023354   0.01332676\n",
      " 0.04327613 0.04290792 0.01490228 0.02200897 0.02219118 0.01140227\n",
      " 0.0174536  0.03501858 0.01204928 0.01109171 0.00628254 0.\n",
      " 0.02212193 0.00679248 0.         0.00758913 0.00482731 0.\n",
      " 0.         0.         0.04226067]\n"
     ]
    },
    {
     "data": {
      "image/png": "[encoded data removed]",
      "text/plain": [
       "<Figure size 504x144 with 1 Axes>"
      ]
     },
     "metadata": {
      "needs_background": "light"
     },
     "output_type": "display_data"
    }
   ],
   "source": [
    "y_train = df['state'].values\n",
    "X_train = df.drop('state', axis=1).values\n",
    "\n",
    "# アダブーストの設定\n",
    "# n_estimator、決定木を10個つくる\n",
    "# 過学習を防ぐため枝は増やしすぎない\n",
    "# 総データ数の約1%である3,000をmin_samplesとする\n",
    "#→importanceがすべて0となったので、100とする\n",
    "clf = AdaBoostClassifier(DecisionTreeClassifier(criterion=\"gini\", max_depth=5, min_samples_split=100, min_samples_leaf=100), n_estimators=10, random_state=1234)\n",
    "clf.fit(X_train, y_train)\n",
    "print(\"score=\", clf.score(X_train, y_train))\n",
    "\n",
    "# 説明変数の重要度を出力する\n",
    "# scikit-learnで算出される重要度は、ある説明変数による不純度の減少量合計である。\n",
    "print(clf.feature_importances_)\n",
    "pd.DataFrame(clf.feature_importances_, index=df.columns[1:]).plot.bar(figsize=(7,2))\n",
    "plt.ylabel(\"Importance\")\n",
    "plt.xlabel(\"Features\")\n",
    "plt.show()"
   ]
  },
  {
   "cell_type": "code",
   "execution_count": 40,
   "metadata": {},
   "outputs": [
    {
     "name": "stdout",
     "output_type": "stream",
     "text": [
      "0\n"
     ]
    },
    {
     "ename": "InvocationException",
     "evalue": "GraphViz's executables not found",
     "output_type": "error",
     "traceback": [
      "\u001b[1;31m---------------------------------------------------------------------------\u001b[0m",
      "\u001b[1;31mInvocationException\u001b[0m                       Traceback (most recent call last)",
      "\u001b[1;32m<ipython-input-40-4a530de083d4>\u001b[0m in \u001b[0;36m<module>\u001b[1;34m\u001b[0m\n\u001b[0;32m     10\u001b[0m                          special_characters=True)\n\u001b[0;32m     11\u001b[0m     \u001b[0mgraph\u001b[0m \u001b[1;33m=\u001b[0m \u001b[0mpydotplus\u001b[0m\u001b[1;33m.\u001b[0m\u001b[0mgraph_from_dot_data\u001b[0m\u001b[1;33m(\u001b[0m\u001b[0mdot_data\u001b[0m\u001b[1;33m.\u001b[0m\u001b[0mgetvalue\u001b[0m\u001b[1;33m(\u001b[0m\u001b[1;33m)\u001b[0m\u001b[1;33m)\u001b[0m\u001b[1;33m\u001b[0m\u001b[1;33m\u001b[0m\u001b[0m\n\u001b[1;32m---> 12\u001b[1;33m     \u001b[0mdisplay\u001b[0m\u001b[1;33m(\u001b[0m\u001b[0mImage\u001b[0m\u001b[1;33m(\u001b[0m\u001b[0mgraph\u001b[0m\u001b[1;33m.\u001b[0m\u001b[0mcreate_png\u001b[0m\u001b[1;33m(\u001b[0m\u001b[1;33m)\u001b[0m\u001b[1;33m)\u001b[0m\u001b[1;33m)\u001b[0m\u001b[1;33m\u001b[0m\u001b[1;33m\u001b[0m\u001b[0m\n\u001b[0m\u001b[0;32m     13\u001b[0m     \u001b[0mgraph\u001b[0m\u001b[1;33m.\u001b[0m\u001b[0mwrite_pdf\u001b[0m\u001b[1;33m(\u001b[0m\u001b[1;34m'tree.pdf'\u001b[0m\u001b[1;33m.\u001b[0m\u001b[0mformat\u001b[0m\u001b[1;33m(\u001b[0m\u001b[0mi\u001b[0m\u001b[1;33m)\u001b[0m\u001b[1;33m)\u001b[0m\u001b[1;33m\u001b[0m\u001b[1;33m\u001b[0m\u001b[0m\n",
      "\u001b[1;32m~\\anaconda3\\lib\\site-packages\\pydotplus\\graphviz.py\u001b[0m in \u001b[0;36m<lambda>\u001b[1;34m(f, prog)\u001b[0m\n\u001b[0;32m   1795\u001b[0m             self.__setattr__(\n\u001b[0;32m   1796\u001b[0m                 \u001b[1;34m'create_'\u001b[0m \u001b[1;33m+\u001b[0m \u001b[0mfrmt\u001b[0m\u001b[1;33m,\u001b[0m\u001b[1;33m\u001b[0m\u001b[1;33m\u001b[0m\u001b[0m\n\u001b[1;32m-> 1797\u001b[1;33m                 \u001b[1;32mlambda\u001b[0m \u001b[0mf\u001b[0m\u001b[1;33m=\u001b[0m\u001b[0mfrmt\u001b[0m\u001b[1;33m,\u001b[0m \u001b[0mprog\u001b[0m\u001b[1;33m=\u001b[0m\u001b[0mself\u001b[0m\u001b[1;33m.\u001b[0m\u001b[0mprog\u001b[0m\u001b[1;33m:\u001b[0m \u001b[0mself\u001b[0m\u001b[1;33m.\u001b[0m\u001b[0mcreate\u001b[0m\u001b[1;33m(\u001b[0m\u001b[0mformat\u001b[0m\u001b[1;33m=\u001b[0m\u001b[0mf\u001b[0m\u001b[1;33m,\u001b[0m \u001b[0mprog\u001b[0m\u001b[1;33m=\u001b[0m\u001b[0mprog\u001b[0m\u001b[1;33m)\u001b[0m\u001b[1;33m\u001b[0m\u001b[1;33m\u001b[0m\u001b[0m\n\u001b[0m\u001b[0;32m   1798\u001b[0m             )\n\u001b[0;32m   1799\u001b[0m             \u001b[0mf\u001b[0m \u001b[1;33m=\u001b[0m \u001b[0mself\u001b[0m\u001b[1;33m.\u001b[0m\u001b[0m__dict__\u001b[0m\u001b[1;33m[\u001b[0m\u001b[1;34m'create_'\u001b[0m \u001b[1;33m+\u001b[0m \u001b[0mfrmt\u001b[0m\u001b[1;33m]\u001b[0m\u001b[1;33m\u001b[0m\u001b[1;33m\u001b[0m\u001b[0m\n",
      "\u001b[1;32m~\\anaconda3\\lib\\site-packages\\pydotplus\\graphviz.py\u001b[0m in \u001b[0;36mcreate\u001b[1;34m(self, prog, format)\u001b[0m\n\u001b[0;32m   1957\u001b[0m             \u001b[0mself\u001b[0m\u001b[1;33m.\u001b[0m\u001b[0mprogs\u001b[0m \u001b[1;33m=\u001b[0m \u001b[0mfind_graphviz\u001b[0m\u001b[1;33m(\u001b[0m\u001b[1;33m)\u001b[0m\u001b[1;33m\u001b[0m\u001b[1;33m\u001b[0m\u001b[0m\n\u001b[0;32m   1958\u001b[0m             \u001b[1;32mif\u001b[0m \u001b[0mself\u001b[0m\u001b[1;33m.\u001b[0m\u001b[0mprogs\u001b[0m \u001b[1;32mis\u001b[0m \u001b[1;32mNone\u001b[0m\u001b[1;33m:\u001b[0m\u001b[1;33m\u001b[0m\u001b[1;33m\u001b[0m\u001b[0m\n\u001b[1;32m-> 1959\u001b[1;33m                 raise InvocationException(\n\u001b[0m\u001b[0;32m   1960\u001b[0m                     'GraphViz\\'s executables not found')\n\u001b[0;32m   1961\u001b[0m \u001b[1;33m\u001b[0m\u001b[0m\n",
      "\u001b[1;31mInvocationException\u001b[0m: GraphViz's executables not found"
     ]
    }
   ],
   "source": [
    "for i, est in enumerate(clf.estimators_):\n",
    "    print(i)\n",
    "    \n",
    "    # 決定木の描画\n",
    "    dot_data = StringIO() #dotファイル情報の格納先\n",
    "    export_graphviz(est, out_file=dot_data,\n",
    "                         feature_names=df.columns[1:],\n",
    "                         class_names=['True', 'False'],\n",
    "                         filled=True, rounded=True,\n",
    "                         special_characters=True)\n",
    "    graph = pydotplus.graph_from_dot_data(dot_data.getvalue())\n",
    "    display(Image(graph.create_png()))\n",
    "    graph.write_pdf('tree.pdf'.format(i))"
   ]
  },
  {
   "cell_type": "markdown",
   "metadata": {},
   "source": [
    "→同様にエラーとなってしまう。なお、アダブーストの方が多少スコアが良い。"
   ]
  },
  {
   "cell_type": "markdown",
   "metadata": {},
   "source": [
    "## ⑥ニューラルネットワーク"
   ]
  },
  {
   "cell_type": "code",
   "execution_count": 41,
   "metadata": {},
   "outputs": [
    {
     "name": "stdout",
     "output_type": "stream",
     "text": [
      "<class 'pandas.core.frame.DataFrame'>\n",
      "Int64Index: 327319 entries, 0 to 378660\n",
      "Data columns (total 28 columns):\n",
      " #   Column                     Non-Null Count   Dtype  \n",
      "---  ------                     --------------   -----  \n",
      " 0   state                      327319 non-null  int64  \n",
      " 1   usd_goal_real              327319 non-null  float64\n",
      " 2   period                     327319 non-null  int64  \n",
      " 3   main_category_Comics       327319 non-null  uint8  \n",
      " 4   main_category_Crafts       327319 non-null  uint8  \n",
      " 5   main_category_Dance        327319 non-null  uint8  \n",
      " 6   main_category_Design       327319 non-null  uint8  \n",
      " 7   main_category_Fashion      327319 non-null  uint8  \n",
      " 8   main_category_Food         327319 non-null  uint8  \n",
      " 9   main_category_Games        327319 non-null  uint8  \n",
      " 10  main_category_Journalism   327319 non-null  uint8  \n",
      " 11  main_category_Music        327319 non-null  uint8  \n",
      " 12  main_category_Photography  327319 non-null  uint8  \n",
      " 13  main_category_Publishing   327319 non-null  uint8  \n",
      " 14  main_category_Technology   327319 non-null  uint8  \n",
      " 15  main_category_Theater      327319 non-null  uint8  \n",
      " 16  currency_AUD               327319 non-null  uint8  \n",
      " 17  currency_CAD               327319 non-null  uint8  \n",
      " 18  currency_CHF               327319 non-null  uint8  \n",
      " 19  currency_EUR               327319 non-null  uint8  \n",
      " 20  currency_HKD               327319 non-null  uint8  \n",
      " 21  currency_JPY               327319 non-null  uint8  \n",
      " 22  currency_MXN               327319 non-null  uint8  \n",
      " 23  currency_NOK               327319 non-null  uint8  \n",
      " 24  currency_NZD               327319 non-null  uint8  \n",
      " 25  currency_SEK               327319 non-null  uint8  \n",
      " 26  currency_SGD               327319 non-null  uint8  \n",
      " 27  currency_USD               327319 non-null  uint8  \n",
      "dtypes: float64(1), int64(2), uint8(25)\n",
      "memory usage: 17.8 MB\n"
     ]
    }
   ],
   "source": [
    "y = df['state'].values\n",
    "X = df.drop('state', axis=1).values\n",
    "df.info()"
   ]
  },
  {
   "cell_type": "code",
   "execution_count": 42,
   "metadata": {},
   "outputs": [],
   "source": [
    "# データの準備 #3割をテストデータとする\n",
    "y = df['state'].values\n",
    "X = df.drop('state', axis=1).values\n",
    "X_train, X_test, y_train, y_test = train_test_split(X, y, test_size=0.3, random_state=1234)"
   ]
  },
  {
   "cell_type": "code",
   "execution_count": 43,
   "metadata": {},
   "outputs": [],
   "source": [
    "# ニューラルネットワークの構築\n",
    "model = Sequential()\n",
    "\n",
    "# 1層目 # df.info()よりカラム数は27\n",
    "model.add(Dense(14, activation='relu', input_dim=27))\n",
    "# 2層目\n",
    "model.add(Dense(6, activation='relu', input_dim=14))\n",
    "# 3層目\n",
    "model.add(Dense(3, activation='softmax'))#最終層のactivationは変更しないこと\n",
    "\n",
    "# ------ 最適化手法 ------\n",
    "sgd = SGD(lr=0.01, momentum=0.9, nesterov=False)\n",
    "# rms = RMSprop(lr=0.01)\n",
    "# adag = Adagrad(lr=0.01)\n",
    "# adad = Adadelta(lr=0.01)\n",
    "# adam = Adam(lr=0.01)\n",
    "# -----------------------------\n",
    "# SGDは最急降下法に相当する手法\n",
    "# 他は最急降下法に加え他の工夫を加えたもの\n",
    "\n",
    "# compile（モデルを完成させる）\n",
    "model.compile(loss='sparse_categorical_crossentropy',optimizer=sgd,metrics=['accuracy'])\n",
    "\n",
    "# WARNINGが出るが気にしなくて良い"
   ]
  },
  {
   "cell_type": "code",
   "execution_count": 44,
   "metadata": {},
   "outputs": [
    {
     "name": "stdout",
     "output_type": "stream",
     "text": [
      "Epoch 1/10\n",
      "11457/11457 [==============================] - 15s 1ms/step - loss: 188782.5351 - accuracy: 0.5887 - val_loss: 0.6779 - val_accuracy: 0.5926\n",
      "Epoch 2/10\n",
      "11457/11457 [==============================] - 14s 1ms/step - loss: 0.6777 - accuracy: 0.5907 - val_loss: 0.6762 - val_accuracy: 0.5926\n",
      "Epoch 3/10\n",
      "11457/11457 [==============================] - 15s 1ms/step - loss: 0.6773 - accuracy: 0.5912 - val_loss: 0.6761 - val_accuracy: 0.5926\n",
      "Epoch 4/10\n",
      "11457/11457 [==============================] - 14s 1ms/step - loss: 0.6769 - accuracy: 0.5919 - val_loss: 0.6761 - val_accuracy: 0.5926\n",
      "Epoch 5/10\n",
      "11457/11457 [==============================] - 14s 1ms/step - loss: 0.6774 - accuracy: 0.5904 - val_loss: 0.6760 - val_accuracy: 0.5926\n",
      "Epoch 6/10\n",
      "11457/11457 [==============================] - 14s 1ms/step - loss: 0.6773 - accuracy: 0.5909 - val_loss: 0.6760 - val_accuracy: 0.5926\n",
      "Epoch 7/10\n",
      "11457/11457 [==============================] - 15s 1ms/step - loss: 0.6773 - accuracy: 0.5907 - val_loss: 0.6765 - val_accuracy: 0.5926\n",
      "Epoch 8/10\n",
      "11457/11457 [==============================] - 14s 1ms/step - loss: 0.6773 - accuracy: 0.5905 - val_loss: 0.6760 - val_accuracy: 0.5926\n",
      "Epoch 9/10\n",
      "11457/11457 [==============================] - 14s 1ms/step - loss: 0.6767 - accuracy: 0.5920 - val_loss: 0.6780 - val_accuracy: 0.5926\n",
      "Epoch 10/10\n",
      "11457/11457 [==============================] - 14s 1ms/step - loss: 0.6770 - accuracy: 0.5916 - val_loss: 0.6777 - val_accuracy: 0.5926\n"
     ]
    }
   ],
   "source": [
    "# 学習\n",
    "# epochs・・学習を何順するか\n",
    "# batch_size・・・一度にいくつのデータを使い学習するか\n",
    "fit=model.fit(X_train,y_train,epochs=10,batch_size=20,validation_data=(X_test, y_test))"
   ]
  },
  {
   "cell_type": "markdown",
   "metadata": {},
   "source": [
    "【質問】  \n",
    "データは約30万個あるので、epoch=10,batch_size=20では、最大でも200個のデータに対してしか学習できないということになりますか？  "
   ]
  },
  {
   "cell_type": "code",
   "execution_count": 47,
   "metadata": {
    "scrolled": true
   },
   "outputs": [
    {
     "data": {
      "text/html": [
       "<div>\n",
       "<style scoped>\n",
       "    .dataframe tbody tr th:only-of-type {\n",
       "        vertical-align: middle;\n",
       "    }\n",
       "\n",
       "    .dataframe tbody tr th {\n",
       "        vertical-align: top;\n",
       "    }\n",
       "\n",
       "    .dataframe thead th {\n",
       "        text-align: right;\n",
       "    }\n",
       "</style>\n",
       "<table border=\"1\" class=\"dataframe\">\n",
       "  <thead>\n",
       "    <tr style=\"text-align: right;\">\n",
       "      <th></th>\n",
       "      <th>loss</th>\n",
       "      <th>accuracy</th>\n",
       "      <th>val_loss</th>\n",
       "      <th>val_accuracy</th>\n",
       "    </tr>\n",
       "  </thead>\n",
       "  <tbody>\n",
       "    <tr>\n",
       "      <th>0</th>\n",
       "      <td>43681.105469</td>\n",
       "      <td>0.590770</td>\n",
       "      <td>0.677866</td>\n",
       "      <td>0.59256</td>\n",
       "    </tr>\n",
       "    <tr>\n",
       "      <th>1</th>\n",
       "      <td>0.677501</td>\n",
       "      <td>0.590918</td>\n",
       "      <td>0.676211</td>\n",
       "      <td>0.59256</td>\n",
       "    </tr>\n",
       "    <tr>\n",
       "      <th>2</th>\n",
       "      <td>0.677344</td>\n",
       "      <td>0.590918</td>\n",
       "      <td>0.676116</td>\n",
       "      <td>0.59256</td>\n",
       "    </tr>\n",
       "    <tr>\n",
       "      <th>3</th>\n",
       "      <td>0.677308</td>\n",
       "      <td>0.590918</td>\n",
       "      <td>0.676100</td>\n",
       "      <td>0.59256</td>\n",
       "    </tr>\n",
       "    <tr>\n",
       "      <th>4</th>\n",
       "      <td>0.677193</td>\n",
       "      <td>0.590918</td>\n",
       "      <td>0.676039</td>\n",
       "      <td>0.59256</td>\n",
       "    </tr>\n",
       "  </tbody>\n",
       "</table>\n",
       "</div>"
      ],
      "text/plain": [
       "           loss  accuracy  val_loss  val_accuracy\n",
       "0  43681.105469  0.590770  0.677866       0.59256\n",
       "1      0.677501  0.590918  0.676211       0.59256\n",
       "2      0.677344  0.590918  0.676116       0.59256\n",
       "3      0.677308  0.590918  0.676100       0.59256\n",
       "4      0.677193  0.590918  0.676039       0.59256"
      ]
     },
     "execution_count": 47,
     "metadata": {},
     "output_type": "execute_result"
    }
   ],
   "source": [
    "# 各epochにおける損失と精度をデータフレームに格納\n",
    "df_NN = pd.DataFrame(fit.history)\n",
    "\n",
    "# 格納できているか確認\n",
    "df_NN.head()"
   ]
  },
  {
   "cell_type": "code",
   "execution_count": 48,
   "metadata": {},
   "outputs": [
    {
     "data": {
      "image/png": "[encoded data removed]",
      "text/plain": [
       "<Figure size 432x288 with 1 Axes>"
      ]
     },
     "metadata": {
      "needs_background": "light"
     },
     "output_type": "display_data"
    },
    {
     "data": {
      "image/png": "[encoded data removed]",
      "text/plain": [
       "<Figure size 432x288 with 1 Axes>"
      ]
     },
     "metadata": {
      "needs_background": "light"
     },
     "output_type": "display_data"
    }
   ],
   "source": [
    "# グラフ化\n",
    "df_NN[[\"loss\", \"val_loss\"]].plot()\n",
    "plt.ylabel(\"loss\")\n",
    "plt.xlabel(\"epoch\")\n",
    "plt.show()\n",
    "\n",
    "df_NN[[\"accuracy\", \"val_accuracy\"]].plot()\n",
    "plt.ylabel(\"acc\")\n",
    "plt.xlabel(\"epoch\")\n",
    "plt.ylim([0,1.0])\n",
    "plt.show()"
   ]
  },
  {
   "cell_type": "markdown",
   "metadata": {},
   "source": [
    "→グラフがおかしいのでパラメーターの設定がおかしい？  \n",
    "    →とりあえずaccuracyを算出してみる"
   ]
  },
  {
   "cell_type": "code",
   "execution_count": 49,
   "metadata": {},
   "outputs": [
    {
     "name": "stdout",
     "output_type": "stream",
     "text": [
      "正答率 = 59.256%\n",
      "適合率（Precision） = 0.000%\n",
      "再現率（Recall） = 0.000%\n",
      "F1値（F1-score） = 0.000%\n"
     ]
    },
    {
     "name": "stderr",
     "output_type": "stream",
     "text": [
      "C:\\Users\\kjhsm\\anaconda3\\lib\\site-packages\\sklearn\\metrics\\_classification.py:1221: UndefinedMetricWarning: Precision and F-score are ill-defined and being set to 0.0 in labels with no predicted samples. Use `zero_division` parameter to control this behavior.\n",
      "  _warn_prf(average, modifier, msg_start, len(result))\n"
     ]
    }
   ],
   "source": [
    "# 未知のデータを識別する\n",
    "y_test_est = np.argmax(model.predict(X_test), axis=1)\n",
    "\n",
    "# 正答率を表示\n",
    "print('正答率 = {:.3f}%'.format(100 * accuracy_score(y_test, y_test_est)))\n",
    "\n",
    "# Precision, Recall, F1-scoreを計算\n",
    "precision, recall, f1_score, _ = precision_recall_fscore_support(y_test, y_test_est)\n",
    "\n",
    "# カテゴリ「state」に関するPrecision, Recall, F1-scoreを表示\n",
    "print('適合率（Precision） = {:.3f}%'.format(100 * precision[1]))\n",
    "print('再現率（Recall） = {:.3f}%'.format(100 * recall[1]))\n",
    "print('F1値（F1-score） = {:.3f}%'.format(100 * f1_score[1]))"
   ]
  },
  {
   "cell_type": "markdown",
   "metadata": {},
   "source": [
    "→やはりおかしいが、原因が追究できなかったので、このまま提出とする"
   ]
  },
  {
   "cell_type": "markdown",
   "metadata": {},
   "source": [
    "## 検討結果まとめ\n",
    "\n",
    "**①ホールドアウト法（やり直し）**  \n",
    "・正答率（Accuracy） = 63.835%  \n",
    "・適合率（Precision） = 56.889%  \n",
    "・再現率（Recall） = 45.707%  \n",
    "・F1値（F1-score） = 50.688%  \n",
    "\n",
    "**②交差検証法（やり直し）**  \n",
    "・正答率（Accuracy） = 64.036%  \n",
    "・適合率（Precision） = 58.326%  \n",
    "・再現率（Recall） = 42.818%  \n",
    "・F1値（F1-score） = 49.071%  \n",
    "\n",
    "**③SVM（追加）**  \n",
    "・正答率（Accuracy） = 62.050%  \n",
    "・適合率（Precision） = 55.882%  \n",
    "・再現率（Recall） = 36.938%  \n",
    "・F1値（F1-score） = 44.477%  \n",
    "\n",
    "**④ランダムフォレスト（追加）**  \n",
    "・エラー\n",
    "\n",
    "**⑤アダブースト&決定木（追加）**  \n",
    "・エラー\n",
    "\n",
    "**⑥ニューラルネットワーク（追加）**  \n",
    "・正答率 = 59.256%  \n",
    "・適合率（Precision） = 0.000%  \n",
    "・再現率（Recall） = 0.000%  \n",
    "・F1値（F1-score） = 0.000%  \n",
    "\n",
    "\n",
    "Day1時の  \n",
    "・正答率 = 61.257%  \n",
    "・適合率（Precision） = 61.683%  \n",
    "・再現率（Recall） = 92.413%  \n",
    "・F1値（F1-score） = 73.984%  \n",
    "よりは精度が向上している。 "
   ]
  },
  {
   "cell_type": "markdown",
   "metadata": {},
   "source": [
    "## 課題\n",
    "・SVMがグリッドサーチ後精度が少し下がった理由がわからない  \n",
    "・ランダムフォレストとアダブーストのエラーが改善できない  \n",
    "・ニューラルネットワークでの結果がおかしい  "
   ]
  }
 ],
 "metadata": {
  "kernelspec": {
   "display_name": "Python 3",
   "language": "python",
   "name": "python3"
  },
  "language_info": {
   "codemirror_mode": {
    "name": "ipython",
    "version": 3
   },
   "file_extension": ".py",
   "mimetype": "text/x-python",
   "name": "python",
   "nbconvert_exporter": "python",
   "pygments_lexer": "ipython3",
   "version": "3.8.3"
  }
 },
 "nbformat": 4,
 "nbformat_minor": 4
}
